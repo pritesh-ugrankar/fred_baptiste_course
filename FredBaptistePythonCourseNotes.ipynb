{
 "cells": [
  {
   "cell_type": "markdown",
   "id": "90b53f3f-c125-40f0-89db-f06145273ab2",
   "metadata": {},
   "source": [
    "# Fred Baptiste Python Course Notes"
   ]
  },
  {
   "cell_type": "markdown",
   "id": "2140c474-fd07-43a6-9429-0d0e4f54f8f5",
   "metadata": {},
   "source": [
    "## Object, Instance, Class:"
   ]
  },
  {
   "cell_type": "markdown",
   "id": "83f54cf5-be62-45a4-b888-c79e22909523",
   "metadata": {},
   "source": [
    "### Everything in Python is an object!!\n",
    "Well, _almost everything_ in Python is an object, except for keywords which are part of the language's syntax.\n",
    "So, when I say something like the following:\n",
    "\n",
    "``` \n",
    "a = 5\n",
    "\n",
    "```\n",
    "It means, ```a``` is a ```label``` associated with the ```object``` 5 which is an ```instance``` of a ```class``` called ```int``` "
   ]
  },
  {
   "cell_type": "markdown",
   "id": "b6fa8ad5-7025-47c4-b8f5-530c8b8e9e0f",
   "metadata": {},
   "source": [
    "Point to note is, even a ``` class ``` is an ``` object ```!!"
   ]
  },
  {
   "cell_type": "markdown",
   "id": "3c484f00-0d78-4ddd-9d02-523b8736950d",
   "metadata": {},
   "source": [
    "Yes, that is right!! \n",
    "\n",
    "Let me elaborate - a ```list, tuple, dict, set, int, float, ``` a custom ``` class ``` you create is also an object.\n",
    "But object of _what???_"
   ]
  },
  {
   "cell_type": "markdown",
   "id": "b8e02105-ec25-42c9-a86f-40a8d91c8ca4",
   "metadata": {},
   "source": [
    "These are all objects of the *Metaclass* called ``` type ```"
   ]
  },
  {
   "cell_type": "markdown",
   "id": "394c083f-a041-4bee-bb1d-cf07602e861d",
   "metadata": {},
   "source": [
    "###Understanding *Metaclass* and ```type```\n",
    "In Python, everything is an object, and that includes classes themselves. Just as an instance (like 5 or \"hello\") is an object created from a class (like int or str), a class itself is an object created from a metaclass.\n",
    "\n",
    "The _default metaclass_ in Python, and the one that creates all standard classes, is ```type```.\n",
    "\n",
    "Let's break it down:\n",
    "\n",
    "Objects are instances of classes:\n",
    "\n",
    "```\n",
    ">>> num = 10\n",
    ">>> type(num)\n",
    "<class 'int'>\n",
    "```\n",
    "Here, ```num``` is an object, and it's an ```instance``` of the ```int``` class.\n",
    "\n",
    "Classes themselves are ```instances``` of ```metaclasses```:\n",
    "\n",
    "Python\n",
    "```\n",
    ">>> class MyClass:\n",
    "...     pass\n",
    ">>> type(MyClass)\n",
    "<class 'type'>\n",
    "```\n",
    "Here, ```MyClass``` is a _class_, and it's an _instance_ of the ```type``` _metaclass_.\n",
    "\n",
    "This means that ```type``` is essentially the *\"class of classes.\"* When you define a class using the class keyword, Python implicitly uses type to construct that class object.\n",
    "\n",
    "### But what really is an _object??_\n",
    "\n",
    "An object has a _state_ and _functionality_.\n",
    "\n",
    "See the example below:\n"
   ]
  },
  {
   "cell_type": "code",
   "execution_count": 9,
   "id": "f492e34a-b00f-4bab-97ee-33e17aa78a8b",
   "metadata": {},
   "outputs": [
    {
     "name": "stdout",
     "output_type": "stream",
     "text": [
      "[1, 2, 3, 4, 5]\n",
      "[1, 2, 3, 4, 5, 100]\n"
     ]
    }
   ],
   "source": [
    "my_list = [1, 2, 3, 4, 5] # The elements 1, 2, 3, 4, 5 are the state of this object which has a label \"my_list\".\n",
    "print(my_list) # Will print 1, 2, 3, 4, 5\n",
    "my_list.append(100) # the .append is a functionality that adds the element 100 at the end of the list.\n",
    "print(my_list) # Will print 1, 2, 3, 4, 5, 100\n"
   ]
  },
  {
   "cell_type": "markdown",
   "id": "31594623-9d51-4b7b-a2ad-eb1ecbb3bd18",
   "metadata": {},
   "source": [
    "In this specific case, the list is also a _container_ type object."
   ]
  },
  {
   "cell_type": "markdown",
   "id": "8edec5b3-ccfc-42d0-b43d-826465ee8039",
   "metadata": {},
   "source": [
    "### Why Metaclasses Matter\n",
    "Metaclasses allow you to define how classes are created. They provide a powerful mechanism for advanced introspection and class customization, enabling you to:\n",
    "\n",
    "- **Modify class creation:** Automatically add methods or attributes to newly created classes.\n",
    "\n",
    "- **Enforce design patterns:** Ensure all classes in a certain hierarchy conform to specific rules.\n",
    "\n",
    "- **Implement special behaviors:** Control how class instances are created or how class attributes are accessed.\n",
    "\n",
    "##### Note -  While you don't often interact with metaclasses directly in everyday Python programming, understanding that classes are objects of type is fundamental to grasping Python's deep object-oriented nature."
   ]
  },
  {
   "cell_type": "markdown",
   "id": "596a447f-5465-4a88-9d99-5f89bf4efdfd",
   "metadata": {},
   "source": []
  },
  {
   "cell_type": "markdown",
   "id": "6bdd97b2-6883-462e-8cd8-8f99de653992",
   "metadata": {},
   "source": [
    "### Functions are objects too!!"
   ]
  },
  {
   "cell_type": "markdown",
   "id": "f06caab0-613f-42df-847f-b96db672e29d",
   "metadata": {},
   "source": [
    "see the following code. \n",
    "\n",
    "We see that ```add_nums``` is an object of \"type\" ```function```"
   ]
  },
  {
   "cell_type": "code",
   "execution_count": 21,
   "id": "75dad407-1f73-48c5-b714-b30f80f85ebd",
   "metadata": {},
   "outputs": [
    {
     "name": "stdout",
     "output_type": "stream",
     "text": [
      "add_add_nums is an object of the type <class 'function'>\n"
     ]
    }
   ],
   "source": [
    "def add_nums():\n",
    "    pass\n",
    "\n",
    "print(f\"add_add_nums is an object of the type {type (add_nums)}\")"
   ]
  },
  {
   "cell_type": "markdown",
   "id": "4b84c677-c37b-4524-96c2-ee701919ac7b",
   "metadata": {},
   "source": [
    "In the example below, we see that the ```print_name``` is a ```method``` type of object"
   ]
  },
  {
   "cell_type": "code",
   "execution_count": 22,
   "id": "e7d80ea1-adef-4b8d-a0c4-1912483c03e0",
   "metadata": {},
   "outputs": [
    {
     "name": "stdout",
     "output_type": "stream",
     "text": [
      "<class '__main__.MyClass'> <class 'method'>\n"
     ]
    }
   ],
   "source": [
    "class MyClass:\n",
    "    def __init__(self, name):\n",
    "        self.name = name\n",
    "    def print_name(self):\n",
    "        return print(name)\n",
    "        print (type(MyClass), type (print_name))\n",
    "instance_my_class = MyClass(\"Pritesh\")\n",
    "print(type(instance_my_class), type(instance_my_class.print_name))"
   ]
  },
  {
   "cell_type": "markdown",
   "id": "cebc3967-3246-4ec5-9594-bf8016598f68",
   "metadata": {},
   "source": [
    "Class methods and instance methods are both types of methods defined within a class, but they differ fundamentally in how they are defined, how they are called, and what they can access.\n",
    "\n",
    "-----\n",
    "\n",
    "## Instance Methods\n",
    "\n",
    "**Instance methods** are the most common type of method in Python classes. They operate on an **instance** of the class.\n",
    "\n",
    "  * **Definition:** They are defined like regular functions within a class, and their first parameter is conventionally named `self`.\n",
    "\n",
    "    ```python\n",
    "    class MyClass:\n",
    "        def instance_method(self, arg):\n",
    "            # 'self' refers to the instance of MyClass\n",
    "            print(f\"This is an instance method. Self: {self}, Arg: {arg}\")\n",
    "            self.instance_variable = arg # Can access and modify instance variables\n",
    "    ```\n",
    "\n",
    "  * **Calling:** They are called on an **instance** of the class.\n",
    "\n",
    "    ```python\n",
    "    obj = MyClass()\n",
    "    obj.instance_method(\"hello\")\n",
    "    ```\n",
    "\n",
    "  * **Access:** Instance methods have access to the **instance's data** (through `self`) and can modify the instance's state. They can also access **class variables** but generally do not modify them directly in a way that affects all instances, as this can lead to unexpected behavior.\n",
    "\n",
    "-----\n",
    "\n",
    "## Class Methods 🏢\n",
    "\n",
    "**Class methods** operate on the **class itself**, rather than on an instance of the class.\n",
    "\n",
    "  * **Definition:** They are defined using the `@classmethod` decorator, and their first parameter is conventionally named `cls` (short for class).\n",
    "\n",
    "    ```python\n",
    "    class MyClass:\n",
    "        class_variable = \"I am a class variable\"\n",
    "\n",
    "        @classmethod\n",
    "        def class_method(cls, arg):\n",
    "            # 'cls' refers to the class (MyClass in this case)\n",
    "            print(f\"This is a class method. Cls: {cls}, Arg: {arg}\")\n",
    "            print(f\"Accessing class variable: {cls.class_variable}\")\n",
    "            # Can modify class variables, affecting all instances\n",
    "            cls.class_variable = arg \n",
    "    ```\n",
    "\n",
    "  * **Calling:** They can be called on the **class itself** or on an instance of the class. When called on an instance, `cls` still refers to the class, not the instance.\n",
    "\n",
    "    ```python\n",
    "    MyClass.class_method(\"updated_class_var\") # Called on the class\n",
    "    obj = MyClass()\n",
    "    obj.class_method(\"another_update\")       # Called on an instance, but still operates on the class\n",
    "    ```\n",
    "\n",
    "  * **Access:** Class methods have access to **class variables** (through `cls`) and can modify the class's state, which affects all instances of that class. They **do not** have direct access to instance-specific data (i.e., they cannot use `self` to access instance variables).\n",
    "\n",
    "-----\n",
    "\n",
    "## Key Differences Summarized 📝\n",
    "\n",
    "| Feature          | Instance Methods                                 | Class Methods                                    |\n",
    "| :--------------- | :----------------------------------------------- | :----------------------------------------------- |\n",
    "| **First Arg** | `self` (refers to the instance)                 | `cls` (refers to the class)                     |\n",
    "| **Decorator** | None (standard function)                         | `@classmethod`                                  |\n",
    "| **Called On** | An **instance** of the class                    | The **class itself** or an instance           |\n",
    "| **Access** | Instance data, class data                       | Class data only                                |\n",
    "| **Purpose** | Operate on an object's state                    | Operate on the class's state or create instances |\n",
    "| **Common Use** | Modifying instance attributes, performing actions specific to an object | Factory methods, modifying class-level state, alternative constructors |"
   ]
  },
  {
   "cell_type": "markdown",
   "id": "41aedea0-4c81-48c4-9635-5749c37ec5c3",
   "metadata": {},
   "source": [
    "### Lists\n"
   ]
  },
  {
   "cell_type": "code",
   "execution_count": 23,
   "id": "a751217e-aab2-46ae-b433-53bb717c425c",
   "metadata": {},
   "outputs": [
    {
     "name": "stdout",
     "output_type": "stream",
     "text": [
      "[1, 2, 3, 4, 5]\n",
      "[1, 2, 3, 4, 5, 100]\n"
     ]
    }
   ],
   "source": [
    "my_list = [1, 2, 3, 4, 5] # The elements 1, 2, 3, 4, 5 are the state of this object which has a label \"my_list\".\n",
    "print(my_list) # Will print 1, 2, 3, 4, 5\n",
    "my_list.append(100) # the .append is a functionality that adds the element 100 at the end of the list.\n",
    "print(my_list) # Will print 1, 2, 3, 4, 5, 100"
   ]
  },
  {
   "cell_type": "code",
   "execution_count": 26,
   "id": "229321bc-ddf1-4874-bf00-db6ca922ec43",
   "metadata": {},
   "outputs": [
    {
     "name": "stdout",
     "output_type": "stream",
     "text": [
      "[1, 2, 3, ['a', 'b', 68], 80, 67.5, 'This is a string']\n",
      "7\n",
      "3\n"
     ]
    }
   ],
   "source": [
    "my_new_list = [1, 2, 3, [\"a\", 'b', 0x44], 80, 67.5, \"This is a string\"] # List can have other lists and the elements can be of different types.\n",
    "print(my_new_list)\n",
    "print(len(my_new_list))\n",
    "print(len(my_new_list[3]))"
   ]
  },
  {
   "cell_type": "code",
   "execution_count": null,
   "id": "3ecf6d32-4f80-48b9-a1fe-57c002f5227b",
   "metadata": {},
   "outputs": [],
   "source": []
  }
 ],
 "metadata": {
  "kernelspec": {
   "display_name": "Python 3 (ipykernel)",
   "language": "python",
   "name": "python3"
  },
  "language_info": {
   "codemirror_mode": {
    "name": "ipython",
    "version": 3
   },
   "file_extension": ".py",
   "mimetype": "text/x-python",
   "name": "python",
   "nbconvert_exporter": "python",
   "pygments_lexer": "ipython3",
   "version": "3.10.17"
  }
 },
 "nbformat": 4,
 "nbformat_minor": 5
}
