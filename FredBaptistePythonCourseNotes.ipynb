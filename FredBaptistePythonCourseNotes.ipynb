{
 "cells": [
  {
   "cell_type": "markdown",
   "id": "90b53f3f-c125-40f0-89db-f06145273ab2",
   "metadata": {},
   "source": [
    "# Fred Baptiste Python Course Notes"
   ]
  },
  {
   "cell_type": "markdown",
   "id": "2140c474-fd07-43a6-9429-0d0e4f54f8f5",
   "metadata": {},
   "source": [
    "## Object, Instance, Class:"
   ]
  },
  {
   "cell_type": "markdown",
   "id": "83f54cf5-be62-45a4-b888-c79e22909523",
   "metadata": {},
   "source": [
    "### Everything in Python is an object!!\n",
    "Well, _almost everything_ in Python is an object, except for keywords which are part of the language's syntax.\n",
    "So, when I say something like the following:\n",
    "\n",
    "``` \n",
    "a = 5\n",
    "\n",
    "```\n",
    "It means, ```a``` is a ```label``` associated with the ```object``` 5 which is an ```instance``` of a ```class``` called ```int``` "
   ]
  },
  {
   "cell_type": "markdown",
   "id": "b6fa8ad5-7025-47c4-b8f5-530c8b8e9e0f",
   "metadata": {},
   "source": [
    "Point to note is, even a ``` class ``` is an ``` object ```!!"
   ]
  },
  {
   "cell_type": "markdown",
   "id": "3c484f00-0d78-4ddd-9d02-523b8736950d",
   "metadata": {},
   "source": [
    "Yes, that is right!! \n",
    "\n",
    "Let me elaborate - a ```list, tuple, dict, set, int, float, ``` a custom ``` class ``` you create is also an object.\n",
    "But object of _what???_"
   ]
  },
  {
   "cell_type": "markdown",
   "id": "b8e02105-ec25-42c9-a86f-40a8d91c8ca4",
   "metadata": {},
   "source": [
    "These are all objects of the *Metaclass* called ``` type ```"
   ]
  },
  {
   "cell_type": "markdown",
   "id": "394c083f-a041-4bee-bb1d-cf07602e861d",
   "metadata": {},
   "source": [
    "###Understanding *Metaclass* and ```type```\n",
    "In Python, everything is an object, and that includes classes themselves. Just as an instance (like 5 or \"hello\") is an object created from a class (like int or str), a class itself is an object created from a metaclass.\n",
    "\n",
    "The _default metaclass_ in Python, and the one that creates all standard classes, is ```type```.\n",
    "\n",
    "Let's break it down:\n",
    "\n",
    "Objects are instances of classes:\n",
    "\n",
    "```\n",
    ">>> num = 10\n",
    ">>> type(num)\n",
    "<class 'int'>\n",
    "```\n",
    "Here, ```num``` is an object, and it's an ```instance``` of the ```int``` class.\n",
    "\n",
    "Classes themselves are ```instances``` of ```metaclasses```:\n",
    "\n",
    "Python\n",
    "```\n",
    ">>> class MyClass:\n",
    "...     pass\n",
    ">>> type(MyClass)\n",
    "<class 'type'>\n",
    "```\n",
    "Here, ```MyClass``` is a _class_, and it's an _instance_ of the ```type``` _metaclass_.\n",
    "\n",
    "This means that ```type``` is essentially the *\"class of classes.\"* When you define a class using the class keyword, Python implicitly uses type to construct that class object.\n",
    "\n",
    "### But what really is an _object??_\n",
    "\n",
    "An object has a _state_ and _functionality_.\n",
    "\n",
    "See the example below:\n"
   ]
  },
  {
   "cell_type": "code",
   "execution_count": 148,
   "id": "f492e34a-b00f-4bab-97ee-33e17aa78a8b",
   "metadata": {},
   "outputs": [
    {
     "name": "stdout",
     "output_type": "stream",
     "text": [
      "[1, 2, 3, 4, 5]\n",
      "[1, 2, 3, 4, 5, 100]\n"
     ]
    }
   ],
   "source": [
    "my_list = [1, 2, 3, 4, 5] # The elements 1, 2, 3, 4, 5 are the state of this object which has a label \"my_list\".\n",
    "print(my_list) # Will print 1, 2, 3, 4, 5\n",
    "my_list.append(100) # the .append is a functionality that adds the element 100 at the end of the list.\n",
    "print(my_list) # Will print 1, 2, 3, 4, 5, 100\n"
   ]
  },
  {
   "cell_type": "markdown",
   "id": "31594623-9d51-4b7b-a2ad-eb1ecbb3bd18",
   "metadata": {},
   "source": [
    "In this specific case, the list is also a _container_ type object."
   ]
  },
  {
   "cell_type": "markdown",
   "id": "8edec5b3-ccfc-42d0-b43d-826465ee8039",
   "metadata": {},
   "source": [
    "### Why Metaclasses Matter\n",
    "Metaclasses allow you to define how classes are created. They provide a powerful mechanism for advanced introspection and class customization, enabling you to:\n",
    "\n",
    "- **Modify class creation:** Automatically add methods or attributes to newly created classes.\n",
    "\n",
    "- **Enforce design patterns:** Ensure all classes in a certain hierarchy conform to specific rules.\n",
    "\n",
    "- **Implement special behaviors:** Control how class instances are created or how class attributes are accessed.\n",
    "\n",
    "##### Note -  While you don't often interact with metaclasses directly in everyday Python programming, understanding that classes are objects of type is fundamental to grasping Python's deep object-oriented nature."
   ]
  },
  {
   "cell_type": "markdown",
   "id": "596a447f-5465-4a88-9d99-5f89bf4efdfd",
   "metadata": {},
   "source": []
  },
  {
   "cell_type": "markdown",
   "id": "6bdd97b2-6883-462e-8cd8-8f99de653992",
   "metadata": {},
   "source": [
    "### Functions are objects too!!"
   ]
  },
  {
   "cell_type": "markdown",
   "id": "f06caab0-613f-42df-847f-b96db672e29d",
   "metadata": {},
   "source": [
    "see the following code. \n",
    "\n",
    "We see that ```add_nums``` is an object of \"type\" ```function```"
   ]
  },
  {
   "cell_type": "code",
   "execution_count": 149,
   "id": "75dad407-1f73-48c5-b714-b30f80f85ebd",
   "metadata": {},
   "outputs": [
    {
     "name": "stdout",
     "output_type": "stream",
     "text": [
      "add_add_nums is an object of the type <class 'function'>\n"
     ]
    }
   ],
   "source": [
    "def add_nums():\n",
    "    pass\n",
    "\n",
    "print(f\"add_add_nums is an object of the type {type (add_nums)}\")"
   ]
  },
  {
   "cell_type": "markdown",
   "id": "4b84c677-c37b-4524-96c2-ee701919ac7b",
   "metadata": {},
   "source": [
    "In the example below, we see that the ```print_name``` is a ```method``` type of object"
   ]
  },
  {
   "cell_type": "code",
   "execution_count": 150,
   "id": "e7d80ea1-adef-4b8d-a0c4-1912483c03e0",
   "metadata": {},
   "outputs": [
    {
     "name": "stdout",
     "output_type": "stream",
     "text": [
      "<class '__main__.MyClass'> <class 'method'>\n"
     ]
    }
   ],
   "source": [
    "class MyClass:\n",
    "    def __init__(self, name):\n",
    "        self.name = name\n",
    "    def print_name(self):\n",
    "        return print(name)\n",
    "        print (type(MyClass), type (print_name))\n",
    "instance_my_class = MyClass(\"Pritesh\")\n",
    "print(type(instance_my_class), type(instance_my_class.print_name))"
   ]
  },
  {
   "cell_type": "markdown",
   "id": "cebc3967-3246-4ec5-9594-bf8016598f68",
   "metadata": {},
   "source": [
    "Class methods and instance methods are both types of methods defined within a class, but they differ fundamentally in how they are defined, how they are called, and what they can access.\n",
    "\n",
    "-----\n",
    "\n",
    "## Instance Methods\n",
    "\n",
    "**Instance methods** are the most common type of method in Python classes. They operate on an **instance** of the class.\n",
    "\n",
    "  * **Definition:** They are defined like regular functions within a class, and their first parameter is conventionally named `self`.\n",
    "\n",
    "    ```python\n",
    "    class MyClass:\n",
    "        def instance_method(self, arg):\n",
    "            # 'self' refers to the instance of MyClass\n",
    "            print(f\"This is an instance method. Self: {self}, Arg: {arg}\")\n",
    "            self.instance_variable = arg # Can access and modify instance variables\n",
    "    ```\n",
    "\n",
    "  * **Calling:** They are called on an **instance** of the class.\n",
    "\n",
    "    ```python\n",
    "    obj = MyClass()\n",
    "    obj.instance_method(\"hello\")\n",
    "    ```\n",
    "\n",
    "  * **Access:** Instance methods have access to the **instance's data** (through `self`) and can modify the instance's state. They can also access **class variables** but generally do not modify them directly in a way that affects all instances, as this can lead to unexpected behavior.\n",
    "\n",
    "-----\n",
    "\n",
    "## Class Methods 🏢\n",
    "\n",
    "**Class methods** operate on the **class itself**, rather than on an instance of the class.\n",
    "\n",
    "  * **Definition:** They are defined using the `@classmethod` decorator, and their first parameter is conventionally named `cls` (short for class).\n",
    "\n",
    "    ```python\n",
    "    class MyClass:\n",
    "        class_variable = \"I am a class variable\"\n",
    "\n",
    "        @classmethod\n",
    "        def class_method(cls, arg):\n",
    "            # 'cls' refers to the class (MyClass in this case)\n",
    "            print(f\"This is a class method. Cls: {cls}, Arg: {arg}\")\n",
    "            print(f\"Accessing class variable: {cls.class_variable}\")\n",
    "            # Can modify class variables, affecting all instances\n",
    "            cls.class_variable = arg \n",
    "    ```\n",
    "\n",
    "  * **Calling:** They can be called on the **class itself** or on an instance of the class. When called on an instance, `cls` still refers to the class, not the instance.\n",
    "\n",
    "    ```python\n",
    "    MyClass.class_method(\"updated_class_var\") # Called on the class\n",
    "    obj = MyClass()\n",
    "    obj.class_method(\"another_update\")       # Called on an instance, but still operates on the class\n",
    "    ```\n",
    "\n",
    "  * **Access:** Class methods have access to **class variables** (through `cls`) and can modify the class's state, which affects all instances of that class. They **do not** have direct access to instance-specific data (i.e., they cannot use `self` to access instance variables).\n",
    "\n",
    "-----\n",
    "\n",
    "## Key Differences Summarized 📝\n",
    "\n",
    "| Feature          | Instance Methods                                 | Class Methods                                    |\n",
    "| :--------------- | :----------------------------------------------- | :----------------------------------------------- |\n",
    "| **First Arg** | `self` (refers to the instance)                 | `cls` (refers to the class)                     |\n",
    "| **Decorator** | None (standard function)                         | `@classmethod`                                  |\n",
    "| **Called On** | An **instance** of the class                    | The **class itself** or an instance           |\n",
    "| **Access** | Instance data, class data                       | Class data only                                |\n",
    "| **Purpose** | Operate on an object's state                    | Operate on the class's state or create instances |\n",
    "| **Common Use** | Modifying instance attributes, performing actions specific to an object | Factory methods, modifying class-level state, alternative constructors |"
   ]
  },
  {
   "cell_type": "markdown",
   "id": "41aedea0-4c81-48c4-9635-5749c37ec5c3",
   "metadata": {},
   "source": [
    "### The `list` Type"
   ]
  },
  {
   "cell_type": "markdown",
   "id": "dc9c74e9-5de3-4fa9-b11c-7c9ce0c3d060",
   "metadata": {},
   "source": [
    "Lists are objects that are of type _container_, also of type _sequence_. They are _mutable_ meaning elements can be added or removed from them and they are also _heterogeneous_ meaning they can have elements of other types mixed in them, such as int, float, string, another list or another container type as well."
   ]
  },
  {
   "cell_type": "code",
   "execution_count": 151,
   "id": "a751217e-aab2-46ae-b433-53bb717c425c",
   "metadata": {},
   "outputs": [
    {
     "name": "stdout",
     "output_type": "stream",
     "text": [
      "The type of a list is  <class 'list'>\n",
      "['__add__', '__class__', '__class_getitem__', '__contains__', '__delattr__', '__delitem__', '__dir__', '__doc__', '__eq__', '__format__', '__ge__', '__getattribute__', '__getitem__', '__gt__', '__hash__', '__iadd__', '__imul__', '__init__', '__init_subclass__', '__iter__', '__le__', '__len__', '__lt__', '__mul__', '__ne__', '__new__', '__reduce__', '__reduce_ex__', '__repr__', '__reversed__', '__rmul__', '__setattr__', '__setitem__', '__sizeof__', '__str__', '__subclasshook__', 'append', 'clear', 'copy', 'count', 'extend', 'index', 'insert', 'pop', 'remove', 'reverse', 'sort']\n",
      "my_list: [1, 2, 3, 4, 5]\n",
      "my_list: [1, 2, 3, 4, 5, 100]\n",
      "my_list: [1, 2, 3, 'inserted', 4, 5, 100]\n",
      "my_list: [1, 2, 3, 'inserted', 4, 5, 100, 3, 4, 5, 6, 7, 8, 9]\n",
      "another_list: [3, 4, 5, 6, 7, 8, 9, 1, 2, 3, 'inserted', 4, 5, 100, 3, 4, 5, 6, 7, 8, 9]\n",
      "another_list: [3, 4, 5, 6, 7, 8, 9, 1, 2, 3, 'inserted', 4, 5, 100, 3, 4, 5, 6, 7, 8, 9]\n",
      "[3, 4, 5, 6, 7, 8, 9, 1, 2, 3, 'inserted', 4, 5, 100, 3, 4, 5, 6, 7, 8, 9]\n",
      "my_new_list: [1, 2, 3, ['a', 'b', 68], 80, 67.5, 'This is a string']\n",
      "len(my_new_list): 7\n",
      "len(my_new_list[3]) will count elements of the list within my_new_list: 3\n"
     ]
    },
    {
     "ename": "IndexError",
     "evalue": "list index out of range",
     "output_type": "error",
     "traceback": [
      "\u001b[0;31m---------------------------------------------------------------------------\u001b[0m",
      "\u001b[0;31mIndexError\u001b[0m                                Traceback (most recent call last)",
      "Cell \u001b[0;32mIn[151], line 23\u001b[0m\n\u001b[1;32m     20\u001b[0m \u001b[38;5;28mprint\u001b[39m(\u001b[38;5;124m\"\u001b[39m\u001b[38;5;124mlen(my_new_list):\u001b[39m\u001b[38;5;124m\"\u001b[39m, \u001b[38;5;28mlen\u001b[39m(my_new_list))\n\u001b[1;32m     21\u001b[0m \u001b[38;5;28mprint\u001b[39m(\u001b[38;5;124m\"\u001b[39m\u001b[38;5;124mlen(my_new_list[3]) will count elements of the list within my_new_list:\u001b[39m\u001b[38;5;124m\"\u001b[39m, \u001b[38;5;28mlen\u001b[39m(my_new_list[\u001b[38;5;241m3\u001b[39m]))\n\u001b[0;32m---> 23\u001b[0m \u001b[38;5;28mprint\u001b[39m(\u001b[38;5;124m\"\u001b[39m\u001b[38;5;124mlen(my_new_list[15]) WILL PRINT AN ERROR!!\u001b[39m\u001b[38;5;124m\"\u001b[39m, \u001b[38;5;28mlen\u001b[39m(\u001b[43mmy_new_list\u001b[49m\u001b[43m[\u001b[49m\u001b[38;5;241;43m15\u001b[39;49m\u001b[43m]\u001b[49m))\n",
      "\u001b[0;31mIndexError\u001b[0m: list index out of range"
     ]
    }
   ],
   "source": [
    "a_list = []\n",
    "print (\"The type of a list is \", type(a_list))\n",
    "print(dir(a_list))\n",
    "my_list = [1, 2, 3, 4, 5] # The elements 1, 2, 3, 4, 5 are the state of this object which has a label \"my_list\".\n",
    "print(\"my_list:\", my_list) # Will print 1, 2, 3, 4, 5\n",
    "my_list.append(100) # the .append is a functionality that adds the element 100 at the end of the list.\n",
    "print(\"my_list:\", my_list)\n",
    "my_list.insert(3, \"inserted\") # Elements can be \"inserted\" into a list\n",
    "print(\"my_list:\", my_list)\n",
    "another_list = [3, 4, 5, 6, 7, 8, 9]\n",
    "my_list.extend(another_list) # Will add the contents of another_list to my_list\n",
    "print(\"my_list:\", my_list) # Will print the list contents\n",
    "another_list.extend(my_list) #Will add the contents of my_list to another list. Remember another_list was already \"extended\" above.\n",
    "print(\"another_list:\", another_list)\n",
    "my_list.clear() # will basically clear my_list\n",
    "print(\"another_list:\", another_list)\n",
    "print(another_list) # Note - Though we cleared the my_list elements, it DOES NOT remove it's elements from another_list which we had extended earlier.\n",
    "my_new_list = [1, 2, 3, [\"a\", 'b', 0x44], 80, 67.5, \"This is a string\"] # List can have other lists and the elements can be of different types.\n",
    "print(\"my_new_list:\", my_new_list)\n",
    "print(\"len(my_new_list):\", len(my_new_list))\n",
    "print(\"len(my_new_list[3]) will count elements of the list within my_new_list:\", len(my_new_list[3]))\n",
    "\n",
    "print(\"len(my_new_list[15]) WILL PRINT AN ERROR!!\", len(my_new_list[15]))\n",
    "\n"
   ]
  },
  {
   "cell_type": "markdown",
   "id": "25131e48-ca19-438f-911a-7f29ca311262",
   "metadata": {},
   "source": [
    "### The `tuple` Type"
   ]
  },
  {
   "cell_type": "markdown",
   "id": "7f903e88-c7d2-4c75-83e4-ce4e46b37b8c",
   "metadata": {},
   "source": [
    "Tuples are also objects that are of type container and of type sequence and are heterogeneous. They are however _immutable_ meaning elements can NOT be added or removed from them. They are heterogeneous meaning they can have elements of other types mixed in them, such as int, float, string, another list or another container type as well."
   ]
  },
  {
   "cell_type": "code",
   "execution_count": 172,
   "id": "4515d008-40b0-47a0-b706-b50f2a5e249a",
   "metadata": {},
   "outputs": [
    {
     "name": "stdout",
     "output_type": "stream",
     "text": [
      "<class 'tuple'>\n"
     ]
    }
   ],
   "source": [
    "a_tuple = ()\n",
    "print(type(a_tuple))"
   ]
  },
  {
   "cell_type": "code",
   "execution_count": 173,
   "id": "92c127ae-f58b-4a5f-964d-94e70b5f7148",
   "metadata": {},
   "outputs": [
    {
     "name": "stdout",
     "output_type": "stream",
     "text": [
      "(1, 2, 4, 3, 4, 5)\n"
     ]
    }
   ],
   "source": [
    "my_tuple = (1, 2, 4, 3, 4, 5)\n",
    "print(my_tuple)"
   ]
  },
  {
   "cell_type": "code",
   "execution_count": 174,
   "id": "14372719-dd86-4787-9e92-c82d41f3342a",
   "metadata": {},
   "outputs": [
    {
     "name": "stdout",
     "output_type": "stream",
     "text": [
      "['__add__', '__class__', '__class_getitem__', '__contains__', '__delattr__', '__dir__', '__doc__', '__eq__', '__format__', '__ge__', '__getattribute__', '__getitem__', '__getnewargs__', '__gt__', '__hash__', '__init__', '__init_subclass__', '__iter__', '__le__', '__len__', '__lt__', '__mul__', '__ne__', '__new__', '__reduce__', '__reduce_ex__', '__repr__', '__rmul__', '__setattr__', '__sizeof__', '__str__', '__subclasshook__', 'count', 'index']\n",
      "Note the actions that can be taken on a tuple. mostly it is just count and index.\n"
     ]
    }
   ],
   "source": [
    "print(dir(my_tuple))\n",
    "print(\"Note the actions that can be taken on a tuple. mostly it is just count and index.\")"
   ]
  },
  {
   "cell_type": "markdown",
   "id": "57814f87-3028-4b3f-9963-5eb8ddf69593",
   "metadata": {},
   "source": [
    "__Note__: Unlike a square bracket `[` and `]` , it is the _comma_ `,` that makes a tuple, and _not a bracket_ `(` and `)`"
   ]
  },
  {
   "cell_type": "code",
   "execution_count": 175,
   "id": "f80850ea-ff68-40c1-9a7c-f5c649714a1d",
   "metadata": {},
   "outputs": [],
   "source": [
    "what_is_this = 10, 20, 30, 40"
   ]
  },
  {
   "cell_type": "code",
   "execution_count": 176,
   "id": "388c06c8-d724-4d33-841a-21c9088abcd2",
   "metadata": {},
   "outputs": [
    {
     "name": "stdout",
     "output_type": "stream",
     "text": [
      "what_is_this is a  <class 'tuple'>\n"
     ]
    }
   ],
   "source": [
    "print(\"what_is_this is a \", type(what_is_this))"
   ]
  },
  {
   "cell_type": "markdown",
   "id": "4baad5fa-89b0-4b6a-b5fe-3745916e0f5c",
   "metadata": {},
   "source": [
    "While the tuple itself is immutable, but what's inside it may or may not be immutable."
   ]
  },
  {
   "cell_type": "code",
   "execution_count": 177,
   "id": "db619e2f-ef4f-43d9-82c8-713d06af3bab",
   "metadata": {},
   "outputs": [],
   "source": [
    "another_tuple = (1, 2, 3, [True, False, 50], 5, 6)"
   ]
  },
  {
   "cell_type": "code",
   "execution_count": 178,
   "id": "942be3e0-d145-46e7-8bcf-661eb85cedb4",
   "metadata": {},
   "outputs": [],
   "source": [
    "another_tuple[3][0] = False"
   ]
  },
  {
   "cell_type": "code",
   "execution_count": 179,
   "id": "9a25bfc2-06fc-4f55-9539-325a4316030c",
   "metadata": {},
   "outputs": [
    {
     "data": {
      "text/plain": [
       "(1, 2, 3, [False, False, 50], 5, 6)"
      ]
     },
     "execution_count": 179,
     "metadata": {},
     "output_type": "execute_result"
    }
   ],
   "source": [
    "another_tuple"
   ]
  },
  {
   "cell_type": "code",
   "execution_count": 180,
   "id": "93b7a62e-6d7b-4cf2-8e11-bbf98789e1f1",
   "metadata": {},
   "outputs": [],
   "source": [
    "another_tuple[3][2] = 45.7"
   ]
  },
  {
   "cell_type": "code",
   "execution_count": 181,
   "id": "4b12031c-801b-47cf-9e38-12a2f748c241",
   "metadata": {},
   "outputs": [
    {
     "data": {
      "text/plain": [
       "(1, 2, 3, [False, False, 45.7], 5, 6)"
      ]
     },
     "execution_count": 181,
     "metadata": {},
     "output_type": "execute_result"
    }
   ],
   "source": [
    "another_tuple"
   ]
  },
  {
   "cell_type": "markdown",
   "id": "ebf9cf3d-60c9-4c37-ab82-9973fc807085",
   "metadata": {},
   "source": [
    "Elements CANNOT be added an empty tuple. It will stay empty for it's entire lifetime."
   ]
  },
  {
   "cell_type": "code",
   "execution_count": 182,
   "id": "471b2fbb-b9e0-4204-87b4-9a7e170fba61",
   "metadata": {},
   "outputs": [],
   "source": [
    "empty_t = ()"
   ]
  },
  {
   "cell_type": "markdown",
   "id": "7334ae4b-558d-44e4-bbc7-9487eac92080",
   "metadata": {},
   "source": [
    "How to add something to a tuple then? We need to convert it to a list first, then add or remove things as we need and then convert it back to a tuple."
   ]
  },
  {
   "cell_type": "code",
   "execution_count": 183,
   "id": "325cf4fa-daa8-4d9d-a873-ac1252d87da7",
   "metadata": {},
   "outputs": [],
   "source": [
    "my_tup = (1, 2, 3, 4, 5, \"a\", \"b\")"
   ]
  },
  {
   "cell_type": "markdown",
   "id": "7fbc0ed0-f4a6-477b-a2e4-e13ed3c62472",
   "metadata": {},
   "source": [
    "The object labeled as `my_tup` is at the following address:"
   ]
  },
  {
   "cell_type": "code",
   "execution_count": 184,
   "id": "172b313b-1634-41bc-9f61-8e498cca9b5a",
   "metadata": {},
   "outputs": [
    {
     "data": {
      "text/plain": [
       "4563515712"
      ]
     },
     "execution_count": 184,
     "metadata": {},
     "output_type": "execute_result"
    }
   ],
   "source": [
    "id(my_tup)"
   ]
  },
  {
   "cell_type": "code",
   "execution_count": 185,
   "id": "398a78ce-68e2-4ce6-aacc-5e809e771049",
   "metadata": {},
   "outputs": [],
   "source": [
    "list_of_my_tup = list(my_tup)"
   ]
  },
  {
   "cell_type": "code",
   "execution_count": 186,
   "id": "5e9415ba-a9e6-433c-895b-726f785d85d4",
   "metadata": {},
   "outputs": [
    {
     "name": "stdout",
     "output_type": "stream",
     "text": [
      "[1, 2, 3, 4, 5, 'a', 'b']\n"
     ]
    }
   ],
   "source": [
    "print (list_of_my_tup)"
   ]
  },
  {
   "cell_type": "code",
   "execution_count": 187,
   "id": "564e2c2c-e7a1-409d-b8ea-3dd844e51d07",
   "metadata": {},
   "outputs": [],
   "source": [
    "list_of_my_tup.extend(range(10,20))"
   ]
  },
  {
   "cell_type": "raw",
   "id": "cf0e86fd-dae8-454a-998d-3115d770a4f7",
   "metadata": {},
   "source": [
    "print(list_of_my_tup)"
   ]
  },
  {
   "cell_type": "code",
   "execution_count": 275,
   "id": "a053c798-4e37-48b3-ac47-051742844b05",
   "metadata": {},
   "outputs": [
    {
     "name": "stdout",
     "output_type": "stream",
     "text": [
      "(1, 2, 3, 4, 5, 'a', 'b', 10, 11, 12, 13, 14, 15, 16, 17, 18, 19)\n"
     ]
    },
    {
     "data": {
      "text/plain": [
       "4571867696"
      ]
     },
     "execution_count": 275,
     "metadata": {},
     "output_type": "execute_result"
    }
   ],
   "source": [
    "my_tup = tuple(list_of_my_tup)\n",
    "\n",
    "print(my_tup)\n",
    "id(my_tup)"
   ]
  },
  {
   "cell_type": "code",
   "execution_count": 276,
   "id": "e9f5a40c-a7d8-4789-9f2f-7bc7d6b94707",
   "metadata": {},
   "outputs": [
    {
     "name": "stdout",
     "output_type": "stream",
     "text": [
      "<class 'str'>\n"
     ]
    }
   ],
   "source": [
    "my_str = 'a'\n",
    "print(type(my_str))"
   ]
  },
  {
   "cell_type": "markdown",
   "id": "eec6d2ce-9f47-4cfd-a974-23177a211a18",
   "metadata": {},
   "source": [
    "### The `str` Type"
   ]
  },
  {
   "cell_type": "markdown",
   "id": "9d988f0f-ba00-49f5-9dec-cae0592cef56",
   "metadata": {},
   "source": [
    "Strings are also \"container\" type, \"sequence\" type but they are homogeneous (they can only contain unicode characters) and immutable."
   ]
  },
  {
   "cell_type": "code",
   "execution_count": 297,
   "id": "e5e71714-3cef-42b9-af32-d98a70205be6",
   "metadata": {},
   "outputs": [],
   "source": [
    "\n",
    "my_string = \"     This is a string. This is immutable       \""
   ]
  },
  {
   "cell_type": "code",
   "execution_count": 298,
   "id": "3670801e-4eb7-4241-bdfd-d87dc8458b66",
   "metadata": {},
   "outputs": [
    {
     "data": {
      "text/plain": [
       "'     This is a string. This is immutable       '"
      ]
     },
     "execution_count": 298,
     "metadata": {},
     "output_type": "execute_result"
    }
   ],
   "source": [
    "my_string"
   ]
  },
  {
   "cell_type": "code",
   "execution_count": 299,
   "id": "1c0ab2d3-1779-445e-91f6-e379f9ee8f0d",
   "metadata": {},
   "outputs": [
    {
     "name": "stdout",
     "output_type": "stream",
     "text": [
      "['__add__', '__class__', '__contains__', '__delattr__', '__dir__', '__doc__', '__eq__', '__format__', '__ge__', '__getattribute__', '__getitem__', '__getnewargs__', '__gt__', '__hash__', '__init__', '__init_subclass__', '__iter__', '__le__', '__len__', '__lt__', '__mod__', '__mul__', '__ne__', '__new__', '__reduce__', '__reduce_ex__', '__repr__', '__rmod__', '__rmul__', '__setattr__', '__sizeof__', '__str__', '__subclasshook__', 'capitalize', 'casefold', 'center', 'count', 'encode', 'endswith', 'expandtabs', 'find', 'format', 'format_map', 'index', 'isalnum', 'isalpha', 'isascii', 'isdecimal', 'isdigit', 'isidentifier', 'islower', 'isnumeric', 'isprintable', 'isspace', 'istitle', 'isupper', 'join', 'ljust', 'lower', 'lstrip', 'maketrans', 'partition', 'removeprefix', 'removesuffix', 'replace', 'rfind', 'rindex', 'rjust', 'rpartition', 'rsplit', 'rstrip', 'split', 'splitlines', 'startswith', 'strip', 'swapcase', 'title', 'translate', 'upper', 'zfill']\n"
     ]
    }
   ],
   "source": [
    "print(dir(my_string))"
   ]
  },
  {
   "cell_type": "code",
   "execution_count": 300,
   "id": "504871f4-bef2-4210-a1e7-b9587056a160",
   "metadata": {},
   "outputs": [
    {
     "data": {
      "text/plain": [
       "['This', 'is', 'a', 'string.', 'This', 'is', 'immutable']"
      ]
     },
     "execution_count": 300,
     "metadata": {},
     "output_type": "execute_result"
    }
   ],
   "source": [
    "my_string.split()"
   ]
  },
  {
   "cell_type": "code",
   "execution_count": 301,
   "id": "57eaf227-6545-4a57-a717-42783f836b0c",
   "metadata": {},
   "outputs": [
    {
     "data": {
      "text/plain": [
       "'This is a string. This is immutable'"
      ]
     },
     "execution_count": 301,
     "metadata": {},
     "output_type": "execute_result"
    }
   ],
   "source": [
    "my_string.strip()"
   ]
  },
  {
   "cell_type": "code",
   "execution_count": 302,
   "id": "d10aa262-c042-4765-8df2-c903c842e908",
   "metadata": {},
   "outputs": [],
   "source": [
    "not_a_string = \"this\", \"is\", \"NOT\", \"a\", \"string\""
   ]
  },
  {
   "cell_type": "code",
   "execution_count": 303,
   "id": "16dabc8a-f949-4cd4-869a-d3a1345bc9bd",
   "metadata": {},
   "outputs": [
    {
     "data": {
      "text/plain": [
       "tuple"
      ]
     },
     "execution_count": 303,
     "metadata": {},
     "output_type": "execute_result"
    }
   ],
   "source": [
    "type(not_a_string)"
   ]
  },
  {
   "cell_type": "code",
   "execution_count": 304,
   "id": "301e8456-2eb7-44de-a905-d174ec6bbf3a",
   "metadata": {},
   "outputs": [],
   "source": [
    "but_this_is_a_string = \"This, is, most, certainly, a, string.\""
   ]
  },
  {
   "cell_type": "code",
   "execution_count": 305,
   "id": "ec144ebc-8518-42f7-8215-b8f3e4dbe4b2",
   "metadata": {},
   "outputs": [
    {
     "data": {
      "text/plain": [
       "str"
      ]
     },
     "execution_count": 305,
     "metadata": {},
     "output_type": "execute_result"
    }
   ],
   "source": [
    "type(but_this_is_a_string)"
   ]
  },
  {
   "cell_type": "code",
   "execution_count": 306,
   "id": "545d0e48-8174-4241-b8b0-90388083d9dd",
   "metadata": {},
   "outputs": [],
   "source": [
    "t = (1, 2, 3)"
   ]
  },
  {
   "cell_type": "code",
   "execution_count": 307,
   "id": "feb558b2-3eb0-4fb2-b7e3-ee8a06598c91",
   "metadata": {},
   "outputs": [],
   "source": [
    "my_new_string = str(t)"
   ]
  },
  {
   "cell_type": "code",
   "execution_count": 308,
   "id": "ea67a237-e1f7-4950-8d91-1383c8b15eea",
   "metadata": {},
   "outputs": [
    {
     "data": {
      "text/plain": [
       "'(1, 2, 3)'"
      ]
     },
     "execution_count": 308,
     "metadata": {},
     "output_type": "execute_result"
    }
   ],
   "source": [
    "my_new_string"
   ]
  },
  {
   "cell_type": "code",
   "execution_count": 309,
   "id": "94e789c1-ca71-4ab9-af3a-71190d7b7b18",
   "metadata": {},
   "outputs": [
    {
     "name": "stdout",
     "output_type": "stream",
     "text": [
      "(\n"
     ]
    }
   ],
   "source": [
    "print (my_new_string[0])"
   ]
  },
  {
   "cell_type": "code",
   "execution_count": 310,
   "id": "521e72a4-4026-479c-ac4b-4a89016ecd84",
   "metadata": {},
   "outputs": [],
   "source": [
    "s = \"Python\""
   ]
  },
  {
   "cell_type": "code",
   "execution_count": 346,
   "id": "413c7621-4c4e-462a-be15-368366886b9e",
   "metadata": {},
   "outputs": [],
   "source": [
    "t = tuple(s)"
   ]
  },
  {
   "cell_type": "code",
   "execution_count": 347,
   "id": "12f080ba-76dd-4f51-bde7-d23f863c6fa8",
   "metadata": {},
   "outputs": [
    {
     "data": {
      "text/plain": [
       "('P', 'y', 't', 'h', 'o', 'n')"
      ]
     },
     "execution_count": 347,
     "metadata": {},
     "output_type": "execute_result"
    }
   ],
   "source": [
    "t"
   ]
  },
  {
   "cell_type": "code",
   "execution_count": 348,
   "id": "dea57e3a-4d42-443e-a077-80b85f9bbd55",
   "metadata": {},
   "outputs": [],
   "source": [
    "l = list(s)"
   ]
  },
  {
   "cell_type": "code",
   "execution_count": 349,
   "id": "566a35d7-0aa6-4dd9-9147-9dbd5a4d453a",
   "metadata": {},
   "outputs": [
    {
     "data": {
      "text/plain": [
       "['P', 'y', 't', 'h', 'o', 'n']"
      ]
     },
     "execution_count": 349,
     "metadata": {},
     "output_type": "execute_result"
    }
   ],
   "source": [
    "l"
   ]
  },
  {
   "cell_type": "code",
   "execution_count": 350,
   "id": "9367c8c7-67b9-44a0-89c7-bc02257dfbe4",
   "metadata": {},
   "outputs": [],
   "source": [
    "l = list(\"abcdefg\")"
   ]
  },
  {
   "cell_type": "code",
   "execution_count": 351,
   "id": "b9c8a413-e715-4aec-9e82-44489af16576",
   "metadata": {},
   "outputs": [
    {
     "data": {
      "text/plain": [
       "['a', 'b', 'c', 'd', 'e', 'f', 'g']"
      ]
     },
     "execution_count": 351,
     "metadata": {},
     "output_type": "execute_result"
    }
   ],
   "source": [
    "l"
   ]
  },
  {
   "cell_type": "code",
   "execution_count": 352,
   "id": "d5b2f3c6-97cf-4b2a-8845-83adae8760de",
   "metadata": {},
   "outputs": [],
   "source": [
    "matrix_list = [[0,0,0]] *3"
   ]
  },
  {
   "cell_type": "code",
   "execution_count": 353,
   "id": "6dd0e24f-a350-4a04-9623-8e2c0fa6a75b",
   "metadata": {},
   "outputs": [
    {
     "data": {
      "text/plain": [
       "[[0, 0, 0], [0, 0, 0], [0, 0, 0]]"
      ]
     },
     "execution_count": 353,
     "metadata": {},
     "output_type": "execute_result"
    }
   ],
   "source": [
    "matrix_list"
   ]
  },
  {
   "cell_type": "code",
   "execution_count": 354,
   "id": "9a0e487d-da48-4554-bca3-03006d30c4f3",
   "metadata": {},
   "outputs": [
    {
     "data": {
      "text/plain": [
       "True"
      ]
     },
     "execution_count": 354,
     "metadata": {},
     "output_type": "execute_result"
    }
   ],
   "source": [
    "matrix_list[0] is matrix_list[1] is matrix_list[2]"
   ]
  },
  {
   "cell_type": "code",
   "execution_count": 355,
   "id": "d39a765c-724d-4f91-b6b1-48146e853eb6",
   "metadata": {},
   "outputs": [
    {
     "name": "stdout",
     "output_type": "stream",
     "text": [
      "The memory address of the first object 4576710080 is the same as that of the second  4576710080 and third 4576710080\n"
     ]
    }
   ],
   "source": [
    "print (f\"The memory address of the first object {id(matrix_list[0])} is the same as that of the second  {id(matrix_list[1])} and third {id(matrix_list[2])}\")"
   ]
  },
  {
   "cell_type": "code",
   "execution_count": 356,
   "id": "9fc1a01e-3851-4243-9013-d9fde179e950",
   "metadata": {},
   "outputs": [],
   "source": [
    "matrix_list[0] = [1, 2, 3]"
   ]
  },
  {
   "cell_type": "code",
   "execution_count": 357,
   "id": "8918154d-49db-4d29-aa9b-8c3c569c9de4",
   "metadata": {},
   "outputs": [
    {
     "data": {
      "text/plain": [
       "[[1, 2, 3], [0, 0, 0], [0, 0, 0]]"
      ]
     },
     "execution_count": 357,
     "metadata": {},
     "output_type": "execute_result"
    }
   ],
   "source": [
    "matrix_list"
   ]
  },
  {
   "cell_type": "code",
   "execution_count": null,
   "id": "258cf97b-a853-4e8e-a004-351cbc332d5e",
   "metadata": {},
   "outputs": [],
   "source": []
  }
 ],
 "metadata": {
  "kernelspec": {
   "display_name": "Python 3 (ipykernel)",
   "language": "python",
   "name": "python3"
  },
  "language_info": {
   "codemirror_mode": {
    "name": "ipython",
    "version": 3
   },
   "file_extension": ".py",
   "mimetype": "text/x-python",
   "name": "python",
   "nbconvert_exporter": "python",
   "pygments_lexer": "ipython3",
   "version": "3.10.17"
  }
 },
 "nbformat": 4,
 "nbformat_minor": 5
}
