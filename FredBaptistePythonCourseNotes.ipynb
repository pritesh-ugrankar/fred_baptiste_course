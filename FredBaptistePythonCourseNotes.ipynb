{
 "cells": [
  {
   "cell_type": "markdown",
   "id": "90b53f3f-c125-40f0-89db-f06145273ab2",
   "metadata": {},
   "source": [
    "# Fred Baptiste Python Course Notes"
   ]
  },
  {
   "cell_type": "markdown",
   "id": "2140c474-fd07-43a6-9429-0d0e4f54f8f5",
   "metadata": {},
   "source": [
    "## Object, Instance, Class:"
   ]
  },
  {
   "cell_type": "markdown",
   "id": "83f54cf5-be62-45a4-b888-c79e22909523",
   "metadata": {},
   "source": [
    "### Everything in Python is an object!!\n",
    "Well, _almost everything_ in Python is an object, except for keywords which are part of the language's syntax.\n",
    "So, when I say something like the following:\n",
    "\n",
    "``` \n",
    "a = 5\n",
    "\n",
    "```\n",
    "It means, ```a``` is a ```label``` associated with the ```object``` 5 which is an ```instance``` of a ```class``` called ```int``` "
   ]
  },
  {
   "cell_type": "markdown",
   "id": "b6fa8ad5-7025-47c4-b8f5-530c8b8e9e0f",
   "metadata": {},
   "source": [
    "Point to note is, even a ``` class ``` is an ``` object ```!!"
   ]
  },
  {
   "cell_type": "markdown",
   "id": "3c484f00-0d78-4ddd-9d02-523b8736950d",
   "metadata": {},
   "source": [
    "Yes, that is right!! \n",
    "\n",
    "Let me elaborate - a ```list, tuple, dict, set, int, float, ``` a custom ``` class ``` you create is also an object.\n",
    "But object of _what???_"
   ]
  },
  {
   "cell_type": "markdown",
   "id": "b8e02105-ec25-42c9-a86f-40a8d91c8ca4",
   "metadata": {},
   "source": [
    "These are all objects of the *Metaclass* called ``` type ```"
   ]
  },
  {
   "cell_type": "markdown",
   "id": "394c083f-a041-4bee-bb1d-cf07602e861d",
   "metadata": {},
   "source": [
    "###Understanding *Metaclass* and ```type```\n",
    "In Python, everything is an object, and that includes classes themselves. Just as an instance (like 5 or \"hello\") is an object created from a class (like int or str), a class itself is an object created from a metaclass.\n",
    "\n",
    "The _default metaclass_ in Python, and the one that creates all standard classes, is ```type```.\n",
    "\n",
    "Let's break it down:\n",
    "\n",
    "Objects are instances of classes:\n",
    "\n",
    "```\n",
    ">>> num = 10\n",
    ">>> type(num)\n",
    "<class 'int'>\n",
    "```\n",
    "Here, ```num``` is an object, and it's an ```instance``` of the ```int``` class.\n",
    "\n",
    "Classes themselves are ```instances``` of ```metaclasses```:\n",
    "\n",
    "Python\n",
    "```\n",
    ">>> class MyClass:\n",
    "...     pass\n",
    ">>> type(MyClass)\n",
    "<class 'type'>\n",
    "```\n",
    "Here, ```MyClass``` is a _class_, and it's an _instance_ of the ```type``` _metaclass_.\n",
    "\n",
    "This means that ```type``` is essentially the *\"class of classes.\"* When you define a class using the class keyword, Python implicitly uses type to construct that class object.\n",
    "\n",
    "### But what really is an _object??_\n",
    "\n",
    "An object has a _state_ and _functionality_.\n",
    "\n",
    "See the example below:\n"
   ]
  },
  {
   "cell_type": "code",
   "execution_count": 9,
   "id": "f492e34a-b00f-4bab-97ee-33e17aa78a8b",
   "metadata": {},
   "outputs": [
    {
     "name": "stdout",
     "output_type": "stream",
     "text": [
      "[1, 2, 3, 4, 5]\n",
      "[1, 2, 3, 4, 5, 100]\n"
     ]
    }
   ],
   "source": [
    "my_list = [1, 2, 3, 4, 5] # The elements 1, 2, 3, 4, 5 are the state of this object which has a label \"my_list\".\n",
    "print(my_list) # Will print 1, 2, 3, 4, 5\n",
    "my_list.append(100) # the .append is a functionality that adds the element 100 at the end of the list.\n",
    "print(my_list) # Will print 1, 2, 3, 4, 5, 100\n"
   ]
  },
  {
   "cell_type": "markdown",
   "id": "31594623-9d51-4b7b-a2ad-eb1ecbb3bd18",
   "metadata": {},
   "source": [
    "In this specific case, the list is also a _container_ type object."
   ]
  },
  {
   "cell_type": "markdown",
   "id": "8edec5b3-ccfc-42d0-b43d-826465ee8039",
   "metadata": {},
   "source": [
    "### Why Metaclasses Matter\n",
    "Metaclasses allow you to define how classes are created. They provide a powerful mechanism for advanced introspection and class customization, enabling you to:\n",
    "\n",
    "- **Modify class creation:** Automatically add methods or attributes to newly created classes.\n",
    "\n",
    "- **Enforce design patterns:** Ensure all classes in a certain hierarchy conform to specific rules.\n",
    "\n",
    "- **Implement special behaviors:** Control how class instances are created or how class attributes are accessed.\n",
    "\n",
    "##### Note -  While you don't often interact with metaclasses directly in everyday Python programming, understanding that classes are objects of type is fundamental to grasping Python's deep object-oriented nature."
   ]
  },
  {
   "cell_type": "markdown",
   "id": "596a447f-5465-4a88-9d99-5f89bf4efdfd",
   "metadata": {},
   "source": []
  },
  {
   "cell_type": "markdown",
   "id": "6bdd97b2-6883-462e-8cd8-8f99de653992",
   "metadata": {},
   "source": [
    "### Functions are objects too!!"
   ]
  },
  {
   "cell_type": "markdown",
   "id": "f06caab0-613f-42df-847f-b96db672e29d",
   "metadata": {},
   "source": [
    "see the following code. \n",
    "\n",
    "We see that ```add_nums``` is an object of \"type\" ```function```"
   ]
  },
  {
   "cell_type": "code",
   "execution_count": 21,
   "id": "75dad407-1f73-48c5-b714-b30f80f85ebd",
   "metadata": {},
   "outputs": [
    {
     "name": "stdout",
     "output_type": "stream",
     "text": [
      "add_add_nums is an object of the type <class 'function'>\n"
     ]
    }
   ],
   "source": [
    "def add_nums():\n",
    "    pass\n",
    "\n",
    "print(f\"add_add_nums is an object of the type {type (add_nums)}\")"
   ]
  },
  {
   "cell_type": "markdown",
   "id": "4b84c677-c37b-4524-96c2-ee701919ac7b",
   "metadata": {},
   "source": [
    "In the example below, we see that the ```print_name``` is a ```method``` type of object"
   ]
  },
  {
   "cell_type": "code",
   "execution_count": 22,
   "id": "e7d80ea1-adef-4b8d-a0c4-1912483c03e0",
   "metadata": {},
   "outputs": [
    {
     "name": "stdout",
     "output_type": "stream",
     "text": [
      "<class '__main__.MyClass'> <class 'method'>\n"
     ]
    }
   ],
   "source": [
    "class MyClass:\n",
    "    def __init__(self, name):\n",
    "        self.name = name\n",
    "    def print_name(self):\n",
    "        return print(name)\n",
    "        print (type(MyClass), type (print_name))\n",
    "instance_my_class = MyClass(\"Pritesh\")\n",
    "print(type(instance_my_class), type(instance_my_class.print_name))"
   ]
  },
  {
   "cell_type": "markdown",
   "id": "cebc3967-3246-4ec5-9594-bf8016598f68",
   "metadata": {},
   "source": [
    "Class methods and instance methods are both types of methods defined within a class, but they differ fundamentally in how they are defined, how they are called, and what they can access.\n",
    "\n",
    "-----\n",
    "\n",
    "## Instance Methods\n",
    "\n",
    "**Instance methods** are the most common type of method in Python classes. They operate on an **instance** of the class.\n",
    "\n",
    "  * **Definition:** They are defined like regular functions within a class, and their first parameter is conventionally named `self`.\n",
    "\n",
    "    ```python\n",
    "    class MyClass:\n",
    "        def instance_method(self, arg):\n",
    "            # 'self' refers to the instance of MyClass\n",
    "            print(f\"This is an instance method. Self: {self}, Arg: {arg}\")\n",
    "            self.instance_variable = arg # Can access and modify instance variables\n",
    "    ```\n",
    "\n",
    "  * **Calling:** They are called on an **instance** of the class.\n",
    "\n",
    "    ```python\n",
    "    obj = MyClass()\n",
    "    obj.instance_method(\"hello\")\n",
    "    ```\n",
    "\n",
    "  * **Access:** Instance methods have access to the **instance's data** (through `self`) and can modify the instance's state. They can also access **class variables** but generally do not modify them directly in a way that affects all instances, as this can lead to unexpected behavior.\n",
    "\n",
    "-----\n",
    "\n",
    "## Class Methods 🏢\n",
    "\n",
    "**Class methods** operate on the **class itself**, rather than on an instance of the class.\n",
    "\n",
    "  * **Definition:** They are defined using the `@classmethod` decorator, and their first parameter is conventionally named `cls` (short for class).\n",
    "\n",
    "    ```python\n",
    "    class MyClass:\n",
    "        class_variable = \"I am a class variable\"\n",
    "\n",
    "        @classmethod\n",
    "        def class_method(cls, arg):\n",
    "            # 'cls' refers to the class (MyClass in this case)\n",
    "            print(f\"This is a class method. Cls: {cls}, Arg: {arg}\")\n",
    "            print(f\"Accessing class variable: {cls.class_variable}\")\n",
    "            # Can modify class variables, affecting all instances\n",
    "            cls.class_variable = arg \n",
    "    ```\n",
    "\n",
    "  * **Calling:** They can be called on the **class itself** or on an instance of the class. When called on an instance, `cls` still refers to the class, not the instance.\n",
    "\n",
    "    ```python\n",
    "    MyClass.class_method(\"updated_class_var\") # Called on the class\n",
    "    obj = MyClass()\n",
    "    obj.class_method(\"another_update\")       # Called on an instance, but still operates on the class\n",
    "    ```\n",
    "\n",
    "  * **Access:** Class methods have access to **class variables** (through `cls`) and can modify the class's state, which affects all instances of that class. They **do not** have direct access to instance-specific data (i.e., they cannot use `self` to access instance variables).\n",
    "\n",
    "-----\n",
    "\n",
    "## Key Differences Summarized 📝\n",
    "\n",
    "| Feature          | Instance Methods                                 | Class Methods                                    |\n",
    "| :--------------- | :----------------------------------------------- | :----------------------------------------------- |\n",
    "| **First Arg** | `self` (refers to the instance)                 | `cls` (refers to the class)                     |\n",
    "| **Decorator** | None (standard function)                         | `@classmethod`                                  |\n",
    "| **Called On** | An **instance** of the class                    | The **class itself** or an instance           |\n",
    "| **Access** | Instance data, class data                       | Class data only                                |\n",
    "| **Purpose** | Operate on an object's state                    | Operate on the class's state or create instances |\n",
    "| **Common Use** | Modifying instance attributes, performing actions specific to an object | Factory methods, modifying class-level state, alternative constructors |"
   ]
  },
  {
   "cell_type": "markdown",
   "id": "41aedea0-4c81-48c4-9635-5749c37ec5c3",
   "metadata": {},
   "source": [
    "### Lists\n"
   ]
  },
  {
   "cell_type": "markdown",
   "id": "dc9c74e9-5de3-4fa9-b11c-7c9ce0c3d060",
   "metadata": {},
   "source": [
    "Lists are objects that are of type _container_, also of type _sequence_. They are _mutable_ meaning elements can be added or removed from them and they are also _heterogeneous_ meaning they can have elements of other types mixed in them, such as int, float, string, another list or another container type as well."
   ]
  },
  {
   "cell_type": "code",
   "execution_count": 43,
   "id": "a751217e-aab2-46ae-b433-53bb717c425c",
   "metadata": {},
   "outputs": [
    {
     "name": "stdout",
     "output_type": "stream",
     "text": [
      "The type of a list is  <class 'list'>\n",
      "['__add__', '__class__', '__class_getitem__', '__contains__', '__delattr__', '__delitem__', '__dir__', '__doc__', '__eq__', '__format__', '__ge__', '__getattribute__', '__getitem__', '__gt__', '__hash__', '__iadd__', '__imul__', '__init__', '__init_subclass__', '__iter__', '__le__', '__len__', '__lt__', '__mul__', '__ne__', '__new__', '__reduce__', '__reduce_ex__', '__repr__', '__reversed__', '__rmul__', '__setattr__', '__setitem__', '__sizeof__', '__str__', '__subclasshook__', 'append', 'clear', 'copy', 'count', 'extend', 'index', 'insert', 'pop', 'remove', 'reverse', 'sort']\n",
      "my_list: [1, 2, 3, 4, 5]\n",
      "my_list: [1, 2, 3, 4, 5, 100]\n",
      "my_list: [1, 2, 3, 'inserted', 4, 5, 100]\n",
      "my_list: [1, 2, 3, 'inserted', 4, 5, 100, 3, 4, 5, 6, 7, 8, 9]\n",
      "another_list: [3, 4, 5, 6, 7, 8, 9, 1, 2, 3, 'inserted', 4, 5, 100, 3, 4, 5, 6, 7, 8, 9]\n",
      "another_list: [3, 4, 5, 6, 7, 8, 9, 1, 2, 3, 'inserted', 4, 5, 100, 3, 4, 5, 6, 7, 8, 9]\n",
      "[3, 4, 5, 6, 7, 8, 9, 1, 2, 3, 'inserted', 4, 5, 100, 3, 4, 5, 6, 7, 8, 9]\n",
      "my_new_list: [1, 2, 3, ['a', 'b', 68], 80, 67.5, 'This is a string']\n",
      "len(my_new_list): 7\n",
      "len(my_new_list[3]) will count elements of the list within my_new_list: 3\n"
     ]
    },
    {
     "ename": "IndexError",
     "evalue": "list index out of range",
     "output_type": "error",
     "traceback": [
      "\u001b[0;31m---------------------------------------------------------------------------\u001b[0m",
      "\u001b[0;31mIndexError\u001b[0m                                Traceback (most recent call last)",
      "Cell \u001b[0;32mIn[43], line 23\u001b[0m\n\u001b[1;32m     20\u001b[0m \u001b[38;5;28mprint\u001b[39m(\u001b[38;5;124m\"\u001b[39m\u001b[38;5;124mlen(my_new_list):\u001b[39m\u001b[38;5;124m\"\u001b[39m, \u001b[38;5;28mlen\u001b[39m(my_new_list))\n\u001b[1;32m     21\u001b[0m \u001b[38;5;28mprint\u001b[39m(\u001b[38;5;124m\"\u001b[39m\u001b[38;5;124mlen(my_new_list[3]) will count elements of the list within my_new_list:\u001b[39m\u001b[38;5;124m\"\u001b[39m, \u001b[38;5;28mlen\u001b[39m(my_new_list[\u001b[38;5;241m3\u001b[39m]))\n\u001b[0;32m---> 23\u001b[0m \u001b[38;5;28mprint\u001b[39m(\u001b[38;5;124m\"\u001b[39m\u001b[38;5;124mlen(my_new_list[15]) WILL PRINT AN ERROR!!\u001b[39m\u001b[38;5;124m\"\u001b[39m, \u001b[38;5;28mlen\u001b[39m(\u001b[43mmy_new_list\u001b[49m\u001b[43m[\u001b[49m\u001b[38;5;241;43m15\u001b[39;49m\u001b[43m]\u001b[49m))\n",
      "\u001b[0;31mIndexError\u001b[0m: list index out of range"
     ]
    }
   ],
   "source": [
    "a_list = []\n",
    "print (\"The type of a list is \", type(a_list))\n",
    "print(dir(a_list))\n",
    "my_list = [1, 2, 3, 4, 5] # The elements 1, 2, 3, 4, 5 are the state of this object which has a label \"my_list\".\n",
    "print(\"my_list:\", my_list) # Will print 1, 2, 3, 4, 5\n",
    "my_list.append(100) # the .append is a functionality that adds the element 100 at the end of the list.\n",
    "print(\"my_list:\", my_list)\n",
    "my_list.insert(3, \"inserted\") # Elements can be \"inserted\" into a list\n",
    "print(\"my_list:\", my_list)\n",
    "another_list = [3, 4, 5, 6, 7, 8, 9]\n",
    "my_list.extend(another_list) # Will add the contents of another_list to my_list\n",
    "print(\"my_list:\", my_list) # Will print the list contents\n",
    "another_list.extend(my_list) #Will add the contents of my_list to another list. Remember another_list was already \"extended\" above.\n",
    "print(\"another_list:\", another_list)\n",
    "my_list.clear() # will basically clear my_list\n",
    "print(\"another_list:\", another_list)\n",
    "print(another_list) # Note - Though we cleared the my_list elements, it DOES NOT remove it's elements from another_list which we had extended earlier.\n",
    "my_new_list = [1, 2, 3, [\"a\", 'b', 0x44], 80, 67.5, \"This is a string\"] # List can have other lists and the elements can be of different types.\n",
    "print(\"my_new_list:\", my_new_list)\n",
    "print(\"len(my_new_list):\", len(my_new_list))\n",
    "print(\"len(my_new_list[3]) will count elements of the list within my_new_list:\", len(my_new_list[3]))\n",
    "\n",
    "print(\"len(my_new_list[15]) WILL PRINT AN ERROR!!\", len(my_new_list[15]))\n",
    "\n"
   ]
  },
  {
   "cell_type": "markdown",
   "id": "25131e48-ca19-438f-911a-7f29ca311262",
   "metadata": {},
   "source": [
    "### Tuples"
   ]
  },
  {
   "cell_type": "markdown",
   "id": "7f903e88-c7d2-4c75-83e4-ce4e46b37b8c",
   "metadata": {},
   "source": [
    "Tuples are also objects that are of type container and of type sequence and are heterogeneous. They are however _immutable_ meaning elements can NOT be added or removed from them. They are heterogeneous meaning they can have elements of other types mixed in them, such as int, float, string, another list or another container type as well."
   ]
  },
  {
   "cell_type": "code",
   "execution_count": 30,
   "id": "4515d008-40b0-47a0-b706-b50f2a5e249a",
   "metadata": {},
   "outputs": [
    {
     "name": "stdout",
     "output_type": "stream",
     "text": [
      "<class 'tuple'>\n"
     ]
    }
   ],
   "source": [
    "a_tuple = ()\n",
    "print(type(a_tuple))"
   ]
  },
  {
   "cell_type": "code",
   "execution_count": 31,
   "id": "92c127ae-f58b-4a5f-964d-94e70b5f7148",
   "metadata": {},
   "outputs": [
    {
     "name": "stdout",
     "output_type": "stream",
     "text": [
      "(1, 2, 4, 3, 4, 5)\n"
     ]
    }
   ],
   "source": [
    "my_tuple = (1, 2, 4, 3, 4, 5)\n",
    "print(my_tuple)"
   ]
  },
  {
   "cell_type": "code",
   "execution_count": 33,
   "id": "14372719-dd86-4787-9e92-c82d41f3342a",
   "metadata": {},
   "outputs": [
    {
     "name": "stdout",
     "output_type": "stream",
     "text": [
      "['__add__', '__class__', '__class_getitem__', '__contains__', '__delattr__', '__dir__', '__doc__', '__eq__', '__format__', '__ge__', '__getattribute__', '__getitem__', '__getnewargs__', '__gt__', '__hash__', '__init__', '__init_subclass__', '__iter__', '__le__', '__len__', '__lt__', '__mul__', '__ne__', '__new__', '__reduce__', '__reduce_ex__', '__repr__', '__rmul__', '__setattr__', '__sizeof__', '__str__', '__subclasshook__', 'count', 'index']\n",
      "Note the actions that can be taken on a tuple. mostly it is just count and index\n"
     ]
    }
   ],
   "source": [
    "print(dir(my_tuple))\n",
    "print(\"Note the actions that can be taken on a tuple. mostly it is just count and index.\")"
   ]
  },
  {
   "cell_type": "markdown",
   "id": "57814f87-3028-4b3f-9963-5eb8ddf69593",
   "metadata": {},
   "source": [
    "__Note__: Unlike a square bracket `[` and `]` , it is the _comma_ `,` that makes a tuple, and _not a bracket_ `(` and `)`"
   ]
  },
  {
   "cell_type": "code",
   "execution_count": 35,
   "id": "f80850ea-ff68-40c1-9a7c-f5c649714a1d",
   "metadata": {},
   "outputs": [],
   "source": [
    "what_is_this = 10, 20, 30, 40"
   ]
  },
  {
   "cell_type": "code",
   "execution_count": 38,
   "id": "388c06c8-d724-4d33-841a-21c9088abcd2",
   "metadata": {},
   "outputs": [
    {
     "name": "stdout",
     "output_type": "stream",
     "text": [
      "what_is_this is a  <class 'tuple'>\n"
     ]
    }
   ],
   "source": [
    "print(\"what_is_this is a \", type(what_is_this))"
   ]
  },
  {
   "cell_type": "markdown",
   "id": "4baad5fa-89b0-4b6a-b5fe-3745916e0f5c",
   "metadata": {},
   "source": [
    "While the tuple itself is immutable, but what's inside it may or may not be immutable."
   ]
  },
  {
   "cell_type": "code",
   "execution_count": 44,
   "id": "db619e2f-ef4f-43d9-82c8-713d06af3bab",
   "metadata": {},
   "outputs": [],
   "source": [
    "another_tuple = (1, 2, 3, [True, False, 50], 5, 6)"
   ]
  },
  {
   "cell_type": "code",
   "execution_count": 45,
   "id": "942be3e0-d145-46e7-8bcf-661eb85cedb4",
   "metadata": {},
   "outputs": [],
   "source": [
    "another_tuple[3][0] = False"
   ]
  },
  {
   "cell_type": "code",
   "execution_count": 46,
   "id": "9a25bfc2-06fc-4f55-9539-325a4316030c",
   "metadata": {},
   "outputs": [
    {
     "data": {
      "text/plain": [
       "(1, 2, 3, [False, False, 50], 5, 6)"
      ]
     },
     "execution_count": 46,
     "metadata": {},
     "output_type": "execute_result"
    }
   ],
   "source": [
    "another_tuple"
   ]
  },
  {
   "cell_type": "code",
   "execution_count": 47,
   "id": "93b7a62e-6d7b-4cf2-8e11-bbf98789e1f1",
   "metadata": {},
   "outputs": [],
   "source": [
    "another_tuple[3][2] = 45.7"
   ]
  },
  {
   "cell_type": "code",
   "execution_count": 48,
   "id": "4b12031c-801b-47cf-9e38-12a2f748c241",
   "metadata": {},
   "outputs": [
    {
     "data": {
      "text/plain": [
       "(1, 2, 3, [False, False, 45.7], 5, 6)"
      ]
     },
     "execution_count": 48,
     "metadata": {},
     "output_type": "execute_result"
    }
   ],
   "source": [
    "another_tuple"
   ]
  },
  {
   "cell_type": "markdown",
   "id": "ebf9cf3d-60c9-4c37-ab82-9973fc807085",
   "metadata": {},
   "source": [
    "Elements CANNOT be added an empty tuple. It will stay empty for it's entire lifetime."
   ]
  },
  {
   "cell_type": "code",
   "execution_count": 50,
   "id": "471b2fbb-b9e0-4204-87b4-9a7e170fba61",
   "metadata": {},
   "outputs": [],
   "source": [
    "empty_t = ()"
   ]
  },
  {
   "cell_type": "code",
   "execution_count": null,
   "id": "7547d935-63d4-4d43-a54c-42e22a92a5b0",
   "metadata": {},
   "outputs": [],
   "source": []
  }
 ],
 "metadata": {
  "kernelspec": {
   "display_name": "Python 3 (ipykernel)",
   "language": "python",
   "name": "python3"
  },
  "language_info": {
   "codemirror_mode": {
    "name": "ipython",
    "version": 3
   },
   "file_extension": ".py",
   "mimetype": "text/x-python",
   "name": "python",
   "nbconvert_exporter": "python",
   "pygments_lexer": "ipython3",
   "version": "3.10.17"
  }
 },
 "nbformat": 4,
 "nbformat_minor": 5
}
