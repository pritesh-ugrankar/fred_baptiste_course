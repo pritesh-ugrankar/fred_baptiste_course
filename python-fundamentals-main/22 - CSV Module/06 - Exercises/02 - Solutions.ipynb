{
 "cells": [
  {
   "cell_type": "markdown",
   "id": "748aeb17",
   "metadata": {},
   "source": [
    "### Solutions"
   ]
  },
  {
   "cell_type": "markdown",
   "id": "f4c92deb",
   "metadata": {},
   "source": [
    "#### Question 1"
   ]
  },
  {
   "cell_type": "markdown",
   "id": "2c4e30e2",
   "metadata": {},
   "source": [
    "Alongside this note book, four CSV files are specified (one is in fact a TSV file)."
   ]
  },
  {
   "cell_type": "markdown",
   "id": "02ac1ebc",
   "metadata": {},
   "source": [
    "For each file, load it using the CSV module, and find the smallest and largest numbers in the data."
   ]
  },
  {
   "cell_type": "markdown",
   "id": "1fae6880",
   "metadata": {},
   "source": [
    "All these files contain just lists of numbers - with the exception of a possible header row"
   ]
  },
  {
   "cell_type": "markdown",
   "id": "cbe1eaad",
   "metadata": {},
   "source": [
    "##### Solution"
   ]
  },
  {
   "cell_type": "markdown",
   "id": "9f072654",
   "metadata": {},
   "source": [
    "The first file `file1.csv` looks like a standard CSV file:"
   ]
  },
  {
   "cell_type": "code",
   "execution_count": 1,
   "id": "7a491293",
   "metadata": {},
   "outputs": [],
   "source": [
    "import csv"
   ]
  },
  {
   "cell_type": "code",
   "execution_count": 2,
   "id": "280c0575",
   "metadata": {},
   "outputs": [
    {
     "name": "stdout",
     "output_type": "stream",
     "text": [
      "col1,col2,col3\n",
      "10,20,30\n",
      "30,40,50\n",
      "60,70,80\n"
     ]
    }
   ],
   "source": [
    "with open('file1.csv') as f:\n",
    "    for row in f:\n",
    "        print(row.strip())"
   ]
  },
  {
   "cell_type": "markdown",
   "id": "5950c219",
   "metadata": {},
   "source": [
    "We should be able to load this up without any issues using a csv reader:"
   ]
  },
  {
   "cell_type": "code",
   "execution_count": 3,
   "id": "ae29fb88",
   "metadata": {},
   "outputs": [
    {
     "name": "stdout",
     "output_type": "stream",
     "text": [
      "[['10', '20', '30'], ['30', '40', '50'], ['60', '70', '80']]\n"
     ]
    }
   ],
   "source": [
    "with open('file1.csv') as f:\n",
    "    reader = csv.reader(f)\n",
    "    # skip header row\n",
    "    next(reader)\n",
    "    # load remaining data\n",
    "    data = list(reader)\n",
    "print(data)"
   ]
  },
  {
   "cell_type": "markdown",
   "id": "da75ceea",
   "metadata": {},
   "source": [
    "We now have a list of lists, and we need to recover the min and max of the numbers in those lists. Notice how the data is actually containing strings, not numbers, so we need to fix that first."
   ]
  },
  {
   "cell_type": "code",
   "execution_count": 4,
   "id": "a1c963a5",
   "metadata": {},
   "outputs": [
    {
     "name": "stdout",
     "output_type": "stream",
     "text": [
      "[[10.0, 20.0, 30.0], [30.0, 40.0, 50.0], [60.0, 70.0, 80.0]]\n"
     ]
    }
   ],
   "source": [
    "with open('file1.csv') as f:\n",
    "    reader = csv.reader(f)\n",
    "    # skip header row\n",
    "    next(reader)\n",
    "    # load remaining data\n",
    "    data = list(reader)\n",
    "data = [[float(x) for x in row] for row in data]\n",
    "print(data)"
   ]
  },
  {
   "cell_type": "markdown",
   "id": "b65ac83f",
   "metadata": {},
   "source": [
    "Since we'll need to perform this calculation multiple times (and all our csv files contain just rows of numbers), we'll make a function that can do this for us repeatedly:"
   ]
  },
  {
   "cell_type": "code",
   "execution_count": 5,
   "id": "f7aae7ef",
   "metadata": {},
   "outputs": [],
   "source": [
    "def min_max(data):\n",
    "    row_maxes = [max(row) for row in data]\n",
    "    row_mins = [min(row) for row in data]\n",
    "    \n",
    "    max_ = max(row_maxes)\n",
    "    min_ = min(row_mins)\n",
    "    return min_, max_"
   ]
  },
  {
   "cell_type": "code",
   "execution_count": 6,
   "id": "9e04441d",
   "metadata": {},
   "outputs": [
    {
     "data": {
      "text/plain": [
       "(10.0, 80.0)"
      ]
     },
     "execution_count": 6,
     "metadata": {},
     "output_type": "execute_result"
    }
   ],
   "source": [
    "min_max(data)"
   ]
  },
  {
   "cell_type": "markdown",
   "id": "fc10b447",
   "metadata": {},
   "source": [
    "Next we'll look at `file2.csv`"
   ]
  },
  {
   "cell_type": "code",
   "execution_count": 7,
   "id": "cdf966ea",
   "metadata": {},
   "outputs": [
    {
     "name": "stdout",
     "output_type": "stream",
     "text": [
      "1, 3.14, 500\n",
      "20, 1, -2\n",
      "-1.1, -2.2, -3.3\n"
     ]
    }
   ],
   "source": [
    "with open('file2.csv') as f:\n",
    "    for row in f:\n",
    "        print(row.strip())"
   ]
  },
  {
   "cell_type": "markdown",
   "id": "0577183d",
   "metadata": {},
   "source": [
    "So this one has no header row."
   ]
  },
  {
   "cell_type": "code",
   "execution_count": 8,
   "id": "df5ed08b",
   "metadata": {},
   "outputs": [
    {
     "name": "stdout",
     "output_type": "stream",
     "text": [
      "[[1.0, 3.14, 500.0], [20.0, 1.0, -2.0], [-1.1, -2.2, -3.3]]\n"
     ]
    }
   ],
   "source": [
    "with open('file2.csv') as f:\n",
    "    reader = csv.reader(f)\n",
    "    # load remaining data\n",
    "    data = list(reader)\n",
    "data = [[float(x) for x in row] for row in data]\n",
    "print(data)"
   ]
  },
  {
   "cell_type": "markdown",
   "id": "45d4a8e5",
   "metadata": {},
   "source": [
    "And now we can just call our function for min/max:"
   ]
  },
  {
   "cell_type": "code",
   "execution_count": 9,
   "id": "0bbccfba",
   "metadata": {},
   "outputs": [
    {
     "data": {
      "text/plain": [
       "(-3.3, 500.0)"
      ]
     },
     "execution_count": 9,
     "metadata": {},
     "output_type": "execute_result"
    }
   ],
   "source": [
    "min_max(data)"
   ]
  },
  {
   "cell_type": "markdown",
   "id": "65fc18fe",
   "metadata": {},
   "source": [
    "Let's move on to the third file:"
   ]
  },
  {
   "cell_type": "code",
   "execution_count": 10,
   "id": "b77189bd",
   "metadata": {},
   "outputs": [
    {
     "name": "stdout",
     "output_type": "stream",
     "text": [
      "col1\tcol2\tcol3\n",
      "10\t20\t30\n",
      "40\t50\t60\n",
      "100\t200\t300\n"
     ]
    }
   ],
   "source": [
    "with open('file3.tsv') as f:\n",
    "    for row in f:\n",
    "        print(row.strip())"
   ]
  },
  {
   "cell_type": "markdown",
   "id": "338efbe9",
   "metadata": {},
   "source": [
    "This one contains a header row, and tab separated values."
   ]
  },
  {
   "cell_type": "markdown",
   "id": "6b9becb9",
   "metadata": {},
   "source": [
    "If we just try to load it using the default settings for the CSV reader, we won't end up with what we need."
   ]
  },
  {
   "cell_type": "code",
   "execution_count": 11,
   "id": "9e75359e",
   "metadata": {},
   "outputs": [
    {
     "data": {
      "text/plain": [
       "[['10\\t20\\t30'], ['40\\t50\\t60'], ['100\\t200\\t300']]"
      ]
     },
     "execution_count": 11,
     "metadata": {},
     "output_type": "execute_result"
    }
   ],
   "source": [
    "with open('file3.tsv') as f:\n",
    "    reader = csv.reader(f)\n",
    "    next(reader)  # skip header row\n",
    "    # load remaining data\n",
    "    data = list(reader)\n",
    "data"
   ]
  },
  {
   "cell_type": "markdown",
   "id": "0f6ec4a5",
   "metadata": {},
   "source": [
    "As you can see, the items were not split on the `\\t` character. So, we just need to instruct the CSV reader that `\\t` characters are the item separators using the `delimiter` argument:"
   ]
  },
  {
   "cell_type": "code",
   "execution_count": 12,
   "id": "9b05a7dd",
   "metadata": {},
   "outputs": [
    {
     "data": {
      "text/plain": [
       "[['10', '20', '30'], ['40', '50', '60'], ['100', '200', '300']]"
      ]
     },
     "execution_count": 12,
     "metadata": {},
     "output_type": "execute_result"
    }
   ],
   "source": [
    "with open('file3.tsv') as f:\n",
    "    reader = csv.reader(f, delimiter='\\t')\n",
    "    next(reader)  # skip header row\n",
    "    # load remaining data\n",
    "    data = list(reader)\n",
    "data"
   ]
  },
  {
   "cell_type": "markdown",
   "id": "d874475a",
   "metadata": {},
   "source": [
    "We still need our numeroic conversion to happen:"
   ]
  },
  {
   "cell_type": "code",
   "execution_count": 13,
   "id": "ae788153",
   "metadata": {},
   "outputs": [
    {
     "data": {
      "text/plain": [
       "[[10.0, 20.0, 30.0], [40.0, 50.0, 60.0], [100.0, 200.0, 300.0]]"
      ]
     },
     "execution_count": 13,
     "metadata": {},
     "output_type": "execute_result"
    }
   ],
   "source": [
    "data = [[float(x) for x in row] for row in data]\n",
    "data"
   ]
  },
  {
   "cell_type": "markdown",
   "id": "cb900414",
   "metadata": {},
   "source": [
    "And now we can find the min/max:"
   ]
  },
  {
   "cell_type": "code",
   "execution_count": 14,
   "id": "810c34a2",
   "metadata": {},
   "outputs": [
    {
     "data": {
      "text/plain": [
       "(10.0, 300.0)"
      ]
     },
     "execution_count": 14,
     "metadata": {},
     "output_type": "execute_result"
    }
   ],
   "source": [
    "min_max(data)"
   ]
  },
  {
   "cell_type": "markdown",
   "id": "e557579c",
   "metadata": {},
   "source": [
    "Finally,let's look at the last file, `file4.csv`:"
   ]
  },
  {
   "cell_type": "code",
   "execution_count": 15,
   "id": "4bad66de",
   "metadata": {},
   "outputs": [
    {
     "name": "stdout",
     "output_type": "stream",
     "text": [
      "-col1-|-col2-|-col3-\n",
      "10|20|30\n",
      "-3.14-|-25-|-100-\n",
      "---3.14-|20|-30-\n"
     ]
    }
   ],
   "source": [
    "with open('file4.csv') as f:\n",
    "    for row in f:\n",
    "        print(row.strip())"
   ]
  },
  {
   "cell_type": "markdown",
   "id": "958fb015",
   "metadata": {},
   "source": [
    "Here you can see that we have a header row, the item separators are the pipe character `|`, and the \"quotechar\" is actually `-` - weird, but we can handle that!"
   ]
  },
  {
   "cell_type": "code",
   "execution_count": 16,
   "id": "0e1acb6b",
   "metadata": {},
   "outputs": [
    {
     "data": {
      "text/plain": [
       "[['10', '20', '30'], ['3.14', '25', '100'], ['-3.14', '20', '30']]"
      ]
     },
     "execution_count": 16,
     "metadata": {},
     "output_type": "execute_result"
    }
   ],
   "source": [
    "with open('file4.csv') as f:\n",
    "    reader = csv.reader(f, delimiter='|', quotechar='-')\n",
    "    next(reader)  # skip header row\n",
    "    # load remaining data\n",
    "    data = list(reader)\n",
    "data"
   ]
  },
  {
   "cell_type": "markdown",
   "id": "8b500c66",
   "metadata": {},
   "source": [
    "We can then make all these items into numbers and find the min/max:"
   ]
  },
  {
   "cell_type": "code",
   "execution_count": 17,
   "id": "f7563d0c",
   "metadata": {},
   "outputs": [
    {
     "data": {
      "text/plain": [
       "(-3.14, 100.0)"
      ]
     },
     "execution_count": 17,
     "metadata": {},
     "output_type": "execute_result"
    }
   ],
   "source": [
    "data = [[float(x) for x in row] for row in data]\n",
    "min_max(data)"
   ]
  },
  {
   "cell_type": "markdown",
   "id": "d9da810a",
   "metadata": {},
   "source": [
    "You'll notice that the way we handle all these files were as follows:"
   ]
  },
  {
   "cell_type": "markdown",
   "id": "5aa99c31",
   "metadata": {},
   "source": [
    "Assumptions:\n",
    "1. assume that all rowes contain numeric values\n",
    "2. except, possibly, for initial header row"
   ]
  },
  {
   "cell_type": "markdown",
   "id": "c6726e7e",
   "metadata": {},
   "source": [
    "Approach:\n",
    "1. specify whether we skip header row or not\n",
    "2. specify `delimiter` and `quotechar` optionally\n",
    "3. load data\n",
    "4. convert all items to floats\n",
    "5. find min_max"
   ]
  },
  {
   "cell_type": "markdown",
   "id": "69066ac7",
   "metadata": {},
   "source": [
    "We could actually package all this up into a single function, as long as we allow passing arguments such as `delimiter` and `quotechar` to, ultimately, the csv reader."
   ]
  },
  {
   "cell_type": "code",
   "execution_count": 18,
   "id": "0bd5ea50",
   "metadata": {},
   "outputs": [],
   "source": [
    "def find_min_max(f_name, has_header_row, **kwargs):\n",
    "    # **kwargs will be passed straight on to the csv reader\n",
    "    with open(f_name) as f:\n",
    "        reader = csv.reader(f, **kwargs)\n",
    "        if has_header_row:\n",
    "            next(reader)  # skip header row\n",
    "        # load remaining data\n",
    "        data = list(reader)\n",
    "    data = [[float(x) for x in row] for row in data]\n",
    "    return min_max(data)"
   ]
  },
  {
   "cell_type": "markdown",
   "id": "bb6657a3",
   "metadata": {},
   "source": [
    "We can simplify this a bit:"
   ]
  },
  {
   "cell_type": "code",
   "execution_count": 19,
   "id": "df6418ca",
   "metadata": {},
   "outputs": [],
   "source": [
    "def find_min_max(f_name, has_header_row=True, **kwargs):\n",
    "    with open(f_name) as f:\n",
    "        reader = csv.reader(f, **kwargs)\n",
    "        if has_header_row:\n",
    "            next(reader)  # skip header row\n",
    "        # load remaining data\n",
    "        data = [[float(x) for x in row] for row in reader]\n",
    "    return min_max(data)"
   ]
  },
  {
   "cell_type": "markdown",
   "id": "3452f1e9",
   "metadata": {},
   "source": [
    "And then we can call it this way:"
   ]
  },
  {
   "cell_type": "code",
   "execution_count": 20,
   "id": "ab65982d",
   "metadata": {},
   "outputs": [
    {
     "data": {
      "text/plain": [
       "(10.0, 80.0)"
      ]
     },
     "execution_count": 20,
     "metadata": {},
     "output_type": "execute_result"
    }
   ],
   "source": [
    "find_min_max('file1.csv')"
   ]
  },
  {
   "cell_type": "code",
   "execution_count": 21,
   "id": "b66901dc",
   "metadata": {},
   "outputs": [
    {
     "data": {
      "text/plain": [
       "(-3.3, 500.0)"
      ]
     },
     "execution_count": 21,
     "metadata": {},
     "output_type": "execute_result"
    }
   ],
   "source": [
    "find_min_max('file2.csv', has_header_row=False)"
   ]
  },
  {
   "cell_type": "code",
   "execution_count": 22,
   "id": "0a8b2704",
   "metadata": {},
   "outputs": [
    {
     "data": {
      "text/plain": [
       "(10.0, 300.0)"
      ]
     },
     "execution_count": 22,
     "metadata": {},
     "output_type": "execute_result"
    }
   ],
   "source": [
    "find_min_max('file3.tsv', delimiter='\\t')"
   ]
  },
  {
   "cell_type": "code",
   "execution_count": 23,
   "id": "837bfe85",
   "metadata": {},
   "outputs": [
    {
     "data": {
      "text/plain": [
       "(-3.14, 100.0)"
      ]
     },
     "execution_count": 23,
     "metadata": {},
     "output_type": "execute_result"
    }
   ],
   "source": [
    "find_min_max('file4.csv', delimiter='|', quotechar='-')"
   ]
  },
  {
   "cell_type": "markdown",
   "id": "8831a8df",
   "metadata": {},
   "source": [
    "#### Question 2"
   ]
  },
  {
   "cell_type": "markdown",
   "id": "8f7dd3a8",
   "metadata": {},
   "source": [
    "Given this data structure consisting of a list of dictionaries, write a function that will write this data out to a file, where the column headers (in the first row) are based on the dictionary keys, and the values are flattened out to one row per dictionary (under the corresponding column header)."
   ]
  },
  {
   "cell_type": "markdown",
   "id": "ef0b2815",
   "metadata": {},
   "source": [
    "Note that not all dictionaries contain all the same keys, nor are the keys necessarily in the same order when present."
   ]
  },
  {
   "cell_type": "markdown",
   "id": "ea7eaa64",
   "metadata": {},
   "source": [
    "For \"missing\" values, your function should just write an empty string."
   ]
  },
  {
   "cell_type": "markdown",
   "id": "8fad6b06",
   "metadata": {},
   "source": [
    "For example, given this `data`:"
   ]
  },
  {
   "cell_type": "code",
   "execution_count": 24,
   "id": "7f2e85ff",
   "metadata": {},
   "outputs": [],
   "source": [
    "data = [\n",
    "    {'a': '1_a', 'b': '1_b', 'c': '1_c'},\n",
    "    {'c': '2_c', 'd': '2_d'},\n",
    "    {'a': '3_a', 'c': '3_c', 'e': '3_e'}\n",
    "]"
   ]
  },
  {
   "cell_type": "raw",
   "id": "addbd463",
   "metadata": {},
   "source": [
    "Your output file should look like this:"
   ]
  },
  {
   "cell_type": "markdown",
   "id": "130e738d",
   "metadata": {},
   "source": [
    "```\n",
    "a,b,c,d,e\n",
    "1_a,1_b,1_c,,,\n",
    ",,2_c,2_d,\n",
    "3_a,,3_c,,3_e\n",
    "```"
   ]
  },
  {
   "cell_type": "markdown",
   "id": "a9c9b193",
   "metadata": {},
   "source": [
    "The order of the columns and rows is not important - as long as they match up with respective column headers."
   ]
  },
  {
   "cell_type": "markdown",
   "id": "8a7ed21a",
   "metadata": {},
   "source": [
    "##### Solution"
   ]
  },
  {
   "cell_type": "markdown",
   "id": "e162b16b",
   "metadata": {},
   "source": [
    "First thing is we need to get the set of all the keys in all the dictionaries:"
   ]
  },
  {
   "cell_type": "code",
   "execution_count": 25,
   "id": "a781e4a6",
   "metadata": {},
   "outputs": [
    {
     "data": {
      "text/plain": [
       "{'a', 'b', 'c', 'd', 'e'}"
      ]
     },
     "execution_count": 25,
     "metadata": {},
     "output_type": "execute_result"
    }
   ],
   "source": [
    "keys = set()\n",
    "for d in data:\n",
    "    keys = keys | d.keys()\n",
    "keys"
   ]
  },
  {
   "cell_type": "markdown",
   "id": "100db76f",
   "metadata": {},
   "source": [
    "Now we can loop through each dictionary and create a list of all the values for the corresponding keys."
   ]
  },
  {
   "cell_type": "markdown",
   "id": "15f144dd",
   "metadata": {},
   "source": [
    "Before we do that however, we want to be sure that the keys will be in the same order, and using a set for the keys doers not guarantee order, so we'll make that into a list first:"
   ]
  },
  {
   "cell_type": "code",
   "execution_count": 26,
   "id": "6ddb1748",
   "metadata": {},
   "outputs": [
    {
     "data": {
      "text/plain": [
       "['e', 'c', 'b', 'a', 'd']"
      ]
     },
     "execution_count": 26,
     "metadata": {},
     "output_type": "execute_result"
    }
   ],
   "source": [
    "keys = list(keys)\n",
    "keys"
   ]
  },
  {
   "cell_type": "markdown",
   "id": "49349e35",
   "metadata": {},
   "source": [
    "Now we can go ahead and create our list of lists - one list per row, and one value (possibly an empty string), for each item in the row."
   ]
  },
  {
   "cell_type": "code",
   "execution_count": 27,
   "id": "bebecf8b",
   "metadata": {},
   "outputs": [
    {
     "data": {
      "text/plain": [
       "[['', '1_c', '1_b', '1_a', ''],\n",
       " ['', '2_c', '', '', '2_d'],\n",
       " ['3_e', '3_c', '', '3_a', '']]"
      ]
     },
     "execution_count": 27,
     "metadata": {},
     "output_type": "execute_result"
    }
   ],
   "source": [
    "flattened = []\n",
    "for d in data:\n",
    "    row_list = []\n",
    "    for key in keys:\n",
    "        row_list.append(d.get(key, ''))\n",
    "    flattened.append(row_list)\n",
    "    \n",
    "flattened"
   ]
  },
  {
   "cell_type": "markdown",
   "id": "813080f3",
   "metadata": {},
   "source": [
    "We can probably use some comprehensions here, let's try it:"
   ]
  },
  {
   "cell_type": "code",
   "execution_count": 28,
   "id": "d7aa6158",
   "metadata": {},
   "outputs": [
    {
     "data": {
      "text/plain": [
       "[['', '1_c', '1_b', '1_a', ''],\n",
       " ['', '2_c', '', '', '2_d'],\n",
       " ['3_e', '3_c', '', '3_a', '']]"
      ]
     },
     "execution_count": 28,
     "metadata": {},
     "output_type": "execute_result"
    }
   ],
   "source": [
    "flattened = []\n",
    "for d in data:\n",
    "    row_list = [d.get(key, '') for key in keys]\n",
    "    flattened.append(row_list)\n",
    "    \n",
    "flattened"
   ]
  },
  {
   "cell_type": "markdown",
   "id": "66e084d3",
   "metadata": {},
   "source": [
    "And one more!"
   ]
  },
  {
   "cell_type": "code",
   "execution_count": 29,
   "id": "9fefd67e",
   "metadata": {},
   "outputs": [
    {
     "data": {
      "text/plain": [
       "[['', '1_c', '1_b', '1_a', ''],\n",
       " ['', '2_c', '', '', '2_d'],\n",
       " ['3_e', '3_c', '', '3_a', '']]"
      ]
     },
     "execution_count": 29,
     "metadata": {},
     "output_type": "execute_result"
    }
   ],
   "source": [
    "flattened = [[d.get(key, '') for key in keys] for d in data]\n",
    "flattened"
   ]
  },
  {
   "cell_type": "markdown",
   "id": "744637d3",
   "metadata": {},
   "source": [
    "And now we could write this to a CSV file using the CSV writer method."
   ]
  },
  {
   "cell_type": "markdown",
   "id": "e259304f",
   "metadata": {},
   "source": [
    "Let's go ahead and package all this up, including the CSV writing into a function:"
   ]
  },
  {
   "cell_type": "code",
   "execution_count": 30,
   "id": "14aa727b",
   "metadata": {},
   "outputs": [],
   "source": [
    "def flatten_to_csv(data, out_file):\n",
    "    keys = {}\n",
    "    for d in data:\n",
    "        keys = keys | d.keys()\n",
    "    keys = list(keys)\n",
    "    flattened = [[d.get(key, '') for key in keys] for d in data]\n",
    "    \n",
    "    with open(out_file, 'w') as f:\n",
    "        writer = csv.writer(f)\n",
    "        writer.writerow(keys)\n",
    "        for row in flattened:\n",
    "            writer.writerow(row)    "
   ]
  },
  {
   "cell_type": "code",
   "execution_count": 31,
   "id": "96cec56c",
   "metadata": {},
   "outputs": [],
   "source": [
    "flatten_to_csv(data, 'test.csv')"
   ]
  }
 ],
 "metadata": {
  "kernelspec": {
   "display_name": "Python 3 (ipykernel)",
   "language": "python",
   "name": "python3"
  },
  "language_info": {
   "codemirror_mode": {
    "name": "ipython",
    "version": 3
   },
   "file_extension": ".py",
   "mimetype": "text/x-python",
   "name": "python",
   "nbconvert_exporter": "python",
   "pygments_lexer": "ipython3",
   "version": "3.10.2"
  }
 },
 "nbformat": 4,
 "nbformat_minor": 5
}
