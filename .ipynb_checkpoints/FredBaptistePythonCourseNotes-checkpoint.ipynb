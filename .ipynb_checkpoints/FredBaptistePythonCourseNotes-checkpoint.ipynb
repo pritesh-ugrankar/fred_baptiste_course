{
 "cells": [
  {
   "cell_type": "markdown",
   "id": "90b53f3f-c125-40f0-89db-f06145273ab2",
   "metadata": {},
   "source": [
    "# Fred Baptiste Python Course Notes"
   ]
  },
  {
   "cell_type": "markdown",
   "id": "2140c474-fd07-43a6-9429-0d0e4f54f8f5",
   "metadata": {},
   "source": [
    "## Object, Instance, Class:"
   ]
  },
  {
   "cell_type": "markdown",
   "id": "83f54cf5-be62-45a4-b888-c79e22909523",
   "metadata": {},
   "source": [
    "### Everything in Python is an object!!\n",
    "Well, _almost everything_ in Python is an object, except for keywords which are part of the language's syntax.\n",
    "So, when I say something like the following:\n",
    "\n",
    "``` \n",
    "a = 5\n",
    "\n",
    "```\n",
    "It means, ```a``` is a ```label``` associated with the ```object``` 5 which is an ```instance``` of a ```class``` called ```int``` "
   ]
  },
  {
   "cell_type": "markdown",
   "id": "b6fa8ad5-7025-47c4-b8f5-530c8b8e9e0f",
   "metadata": {},
   "source": [
    "Point to note is, even a ``` class ``` is an ``` object ```!!"
   ]
  },
  {
   "cell_type": "markdown",
   "id": "3c484f00-0d78-4ddd-9d02-523b8736950d",
   "metadata": {},
   "source": [
    "Yes, that is right!! \n",
    "\n",
    "Let me elaborate - a ```list, tuple, dict, set, int, float, ``` a custom ``` class ``` you create is also an object.\n",
    "But object of _what???_"
   ]
  },
  {
   "cell_type": "markdown",
   "id": "b8e02105-ec25-42c9-a86f-40a8d91c8ca4",
   "metadata": {},
   "source": [
    "These are all objects of the *Metaclass* called ``` type ```"
   ]
  },
  {
   "cell_type": "markdown",
   "id": "394c083f-a041-4bee-bb1d-cf07602e861d",
   "metadata": {},
   "source": [
    "### Understanding *Metaclass* and ```type```\n",
    "In Python, everything is an object, and that includes classes themselves. Just as an instance (like 5 or \"hello\") is an object created from a class (like int or str), a class itself is an object created from a metaclass.\n",
    "\n",
    "The _default metaclass_ in Python, and the one that creates all standard classes, is ```type```.\n",
    "\n",
    "Let's break it down:\n",
    "\n",
    "Objects are instances of classes:\n",
    "\n",
    "```\n",
    ">>> num = 10\n",
    ">>> type(num)\n",
    "<class 'int'>\n",
    "```\n",
    "Here, ```num``` is an object, and it's an ```instance``` of the ```int``` class.\n",
    "\n",
    "Classes themselves are ```instances``` of ```metaclasses```:\n",
    "\n",
    "Python\n",
    "```\n",
    ">>> class MyClass:\n",
    "...     pass\n",
    ">>> type(MyClass)\n",
    "<class 'type'>\n",
    "```\n",
    "Here, ```MyClass``` is a _class_, and it's an _instance_ of the ```type``` _metaclass_.\n",
    "\n",
    "This means that ```type``` is essentially the *\"class of classes.\"* When you define a class using the class keyword, Python implicitly uses type to construct that class object."
   ]
  },
  {
   "cell_type": "markdown",
   "id": "8edec5b3-ccfc-42d0-b43d-826465ee8039",
   "metadata": {},
   "source": [
    "### Why Metaclasses Matter\n",
    "Metaclasses allow you to define how classes are created. They provide a powerful mechanism for advanced introspection and class customization, enabling you to:\n",
    "\n",
    "- **Modify class creation:** Automatically add methods or attributes to newly created classes.\n",
    "\n",
    "- **Enforce design patterns:** Ensure all classes in a certain hierarchy conform to specific rules.\n",
    "\n",
    "- **Implement special behaviors:** Control how class instances are created or how class attributes are accessed.\n",
    "\n",
    "##### Note -  While you don't often interact with metaclasses directly in everyday Python programming, understanding that classes are objects of type is fundamental to grasping Python's deep object-oriented nature."
   ]
  },
  {
   "cell_type": "markdown",
   "id": "596a447f-5465-4a88-9d99-5f89bf4efdfd",
   "metadata": {},
   "source": []
  },
  {
   "cell_type": "markdown",
   "id": "6bdd97b2-6883-462e-8cd8-8f99de653992",
   "metadata": {},
   "source": [
    "### Functions are objects too!!"
   ]
  },
  {
   "cell_type": "markdown",
   "id": "f06caab0-613f-42df-847f-b96db672e29d",
   "metadata": {},
   "source": [
    "see the following code. \n",
    "\n",
    "We see that ```add_nums``` is an object of \"type\" ```function```"
   ]
  },
  {
   "cell_type": "code",
   "execution_count": 21,
   "id": "75dad407-1f73-48c5-b714-b30f80f85ebd",
   "metadata": {},
   "outputs": [
    {
     "name": "stdout",
     "output_type": "stream",
     "text": [
      "add_add_nums is an object of the type <class 'function'>\n"
     ]
    }
   ],
   "source": [
    "def add_nums():\n",
    "    pass\n",
    "\n",
    "print(f\"add_add_nums is an object of the type {type (add_nums)}\")"
   ]
  },
  {
   "cell_type": "markdown",
   "id": "4b84c677-c37b-4524-96c2-ee701919ac7b",
   "metadata": {},
   "source": [
    "In the example below, we see that the ```print_name``` is a ```method``` type of object"
   ]
  },
  {
   "cell_type": "code",
   "execution_count": 22,
   "id": "e7d80ea1-adef-4b8d-a0c4-1912483c03e0",
   "metadata": {},
   "outputs": [
    {
     "name": "stdout",
     "output_type": "stream",
     "text": [
      "<class '__main__.MyClass'> <class 'method'>\n"
     ]
    }
   ],
   "source": [
    "class MyClass:\n",
    "    def __init__(self, name):\n",
    "        self.name = name\n",
    "    def print_name(self):\n",
    "        return print(name)\n",
    "        print (type(MyClass), type (print_name))\n",
    "instance_my_class = MyClass(\"Pritesh\")\n",
    "print(type(instance_my_class), type(instance_my_class.print_name))"
   ]
  },
  {
   "cell_type": "code",
   "execution_count": 34,
   "id": "018c3c6d-6553-42b2-8272-edec175b8a35",
   "metadata": {},
   "outputs": [
    {
     "data": {
      "text/plain": [
       "10"
      ]
     },
     "execution_count": 34,
     "metadata": {},
     "output_type": "execute_result"
    }
   ],
   "source": [
    "2**3 + 2"
   ]
  },
  {
   "cell_type": "code",
   "execution_count": 45,
   "id": "4861e0b1-a974-4125-98b5-67ae5934653d",
   "metadata": {},
   "outputs": [
    {
     "data": {
      "text/plain": [
       "10"
      ]
     },
     "execution_count": 45,
     "metadata": {},
     "output_type": "execute_result"
    }
   ],
   "source": [
    "2 + 2**3"
   ]
  },
  {
   "cell_type": "code",
   "execution_count": 46,
   "id": "92067d7b-e478-4bd5-8ec2-36ffd2bb5e8c",
   "metadata": {},
   "outputs": [
    {
     "data": {
      "text/plain": [
       "16"
      ]
     },
     "execution_count": 46,
     "metadata": {},
     "output_type": "execute_result"
    }
   ],
   "source": [
    "2 * 2 **3"
   ]
  },
  {
   "cell_type": "code",
   "execution_count": 47,
   "id": "cbffd777-177f-4ade-93fb-751c68604c8d",
   "metadata": {},
   "outputs": [
    {
     "data": {
      "text/plain": [
       "1.0"
      ]
     },
     "execution_count": 47,
     "metadata": {},
     "output_type": "execute_result"
    }
   ],
   "source": [
    "2** 3/2 **3 "
   ]
  },
  {
   "cell_type": "code",
   "execution_count": 48,
   "id": "cbaf3dd7-2306-4470-b55c-c729ecb39215",
   "metadata": {},
   "outputs": [
    {
     "data": {
      "text/plain": [
       "0.25"
      ]
     },
     "execution_count": 48,
     "metadata": {},
     "output_type": "execute_result"
    }
   ],
   "source": [
    "2/8"
   ]
  },
  {
   "cell_type": "code",
   "execution_count": 50,
   "id": "76b5e0f0-efa1-4350-b221-35088662f2dc",
   "metadata": {},
   "outputs": [
    {
     "data": {
      "text/plain": [
       "17.75"
      ]
     },
     "execution_count": 50,
     "metadata": {},
     "output_type": "execute_result"
    }
   ],
   "source": [
    "2 -2 / 8 + 8 * 2"
   ]
  },
  {
   "cell_type": "code",
   "execution_count": null,
   "id": "78e1bbc8-8bba-44e7-a855-a1fa7ead4654",
   "metadata": {},
   "outputs": [],
   "source": []
  }
 ],
 "metadata": {
  "kernelspec": {
   "display_name": "Python 3 (ipykernel)",
   "language": "python",
   "name": "python3"
  },
  "language_info": {
   "codemirror_mode": {
    "name": "ipython",
    "version": 3
   },
   "file_extension": ".py",
   "mimetype": "text/x-python",
   "name": "python",
   "nbconvert_exporter": "python",
   "pygments_lexer": "ipython3",
   "version": "3.10.17"
  }
 },
 "nbformat": 4,
 "nbformat_minor": 5
}
